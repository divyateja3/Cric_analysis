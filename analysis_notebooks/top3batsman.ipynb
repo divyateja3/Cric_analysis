{
 "cells": [
  {
   "attachments": {},
   "cell_type": "markdown",
   "metadata": {},
   "source": [
    "Best Player against Spin in Chepauk vs CSK"
   ]
  },
  {
   "cell_type": "code",
   "execution_count": 1,
   "metadata": {},
   "outputs": [],
   "source": [
    "import math\n",
    "import pandas as pd\n",
    "import numpy as np\n",
    "\n",
    "import warnings\n",
    "warnings.filterwarnings('ignore')\n",
    "\n",
    "pd.set_option('display.max_columns', None)\n",
    "pd.set_option('display.expand_frame_repr', False)\n",
    "pd.set_option('max_colwidth', -1)\n",
    "\n",
    "import matplotlib.pyplot as plt"
   ]
  },
  {
   "cell_type": "code",
   "execution_count": 2,
   "metadata": {},
   "outputs": [],
   "source": [
    "deliveries = pd.read_csv('../cric_stats/deliveries.csv')\n",
    "matches = pd.read_csv('../cric_stats/matches.csv')"
   ]
  },
  {
   "cell_type": "code",
   "execution_count": 3,
   "metadata": {},
   "outputs": [],
   "source": [
    "def balls_per_dismissal(balls, dismissals):\n",
    "    if dismissals > 0:\n",
    "        return balls/dismissals\n",
    "    else:\n",
    "        return balls/1 \n",
    "    \n",
    "def balls_per_boundary(balls, boundaries):\n",
    "    if boundaries > 0:\n",
    "        return balls/boundaries\n",
    "    else:\n",
    "        return balls/1 \n",
    "\n",
    "def batsmanstatistics(df):\n",
    "    \n",
    "    df['isDot'] = df['batsman_runs'].apply(lambda x: 1 if x == 0 else 0)\n",
    "    df['isOne'] = df['batsman_runs'].apply(lambda x: 1 if x == 1 else 0)\n",
    "    df['isTwo'] = df['batsman_runs'].apply(lambda x: 1 if x == 2 else 0)\n",
    "    df['isThree'] = df['batsman_runs'].apply(lambda x: 1 if x == 3 else 0)\n",
    "    df['isFour'] = df['batsman_runs'].apply(lambda x: 1 if x == 4 else 0)\n",
    "    df['isSix'] = df['batsman_runs'].apply(lambda x: 1 if x == 6 else 0)\n",
    "    \n",
    "    runs = pd.DataFrame(df.groupby(['batsman'])['batsman_runs'].sum().reset_index()).groupby(['batsman'])['batsman_runs'].sum().reset_index().rename(columns={'batsman_runs':'runs'})\n",
    "    innings = pd.DataFrame(df.groupby(['batsman'])['match_id'].apply(lambda x: len(list(np.unique(x)))).reset_index()).rename(columns = {'match_id':'innings'})\n",
    "    balls = pd.DataFrame(df.groupby(['batsman'])['match_id'].count()).reset_index().rename(columns = {'match_id':'balls'})\n",
    "    dismissals = pd.DataFrame(df.groupby(['batsman'])['player_dismissed'].count()).reset_index().rename(columns = {'player_dismissed':'dismissals'})\n",
    "    \n",
    "    dots = pd.DataFrame(df.groupby(['batsman'])['isDot'].sum()).reset_index().rename(columns = {'isDot':'dots'})\n",
    "    ones = pd.DataFrame(df.groupby(['batsman'])['isOne'].sum()).reset_index().rename(columns = {'isOne':'ones'})\n",
    "    twos = pd.DataFrame(df.groupby(['batsman'])['isTwo'].sum()).reset_index().rename(columns = {'isTwo':'twos'})\n",
    "    threes = pd.DataFrame(df.groupby(['batsman'])['isThree'].sum()).reset_index().rename(columns = {'isThree':'threes'})\n",
    "    fours = pd.DataFrame(df.groupby(['batsman'])['isFour'].sum()).reset_index().rename(columns = {'isFour':'fours'})\n",
    "    sixes = pd.DataFrame(df.groupby(['batsman'])['isSix'].sum()).reset_index().rename(columns = {'isSix':'sixes'})\n",
    "    \n",
    "    df = pd.merge(innings, runs, on = 'batsman').merge(balls, on = 'batsman').merge(dismissals, on = 'batsman').merge(dots, on = 'batsman').merge(ones, on = 'batsman').merge(twos, on = 'batsman').merge(threes, on = 'batsman').merge(fours, on = 'batsman').merge(sixes, on = 'batsman')\n",
    "    \n",
    "    #StrikeRate\n",
    "    df['SR'] = df.apply(lambda x: 100*(x['runs']/x['balls']), axis = 1)\n",
    "\n",
    "    #runs per innings\n",
    "    df['RPI'] = df.apply(lambda x: x['runs']/x['innings'], axis = 1)\n",
    "\n",
    "    #balls per dismissals\n",
    "    df['BPD'] = df.apply(lambda x: balls_per_dismissal(x['balls'], x['dismissals']), axis = 1)\n",
    "\n",
    "    #balls per boundary\n",
    "    df['BPB'] = df.apply(lambda x: balls_per_boundary(x['balls'], (x['fours'] + x['sixes'])), axis = 1)\n",
    "    \n",
    "    return df"
   ]
  },
  {
   "cell_type": "code",
   "execution_count": 4,
   "metadata": {},
   "outputs": [],
   "source": [
    "df = batsmanstatistics(deliveries)\n"
   ]
  },
  {
   "cell_type": "code",
   "execution_count": 5,
   "metadata": {},
   "outputs": [
    {
     "data": {
      "text/html": [
       "<div>\n",
       "<style scoped>\n",
       "    .dataframe tbody tr th:only-of-type {\n",
       "        vertical-align: middle;\n",
       "    }\n",
       "\n",
       "    .dataframe tbody tr th {\n",
       "        vertical-align: top;\n",
       "    }\n",
       "\n",
       "    .dataframe thead th {\n",
       "        text-align: right;\n",
       "    }\n",
       "</style>\n",
       "<table border=\"1\" class=\"dataframe\">\n",
       "  <thead>\n",
       "    <tr style=\"text-align: right;\">\n",
       "      <th></th>\n",
       "      <th>batsman</th>\n",
       "      <th>innings</th>\n",
       "      <th>runs</th>\n",
       "      <th>balls</th>\n",
       "      <th>dismissals</th>\n",
       "      <th>dots</th>\n",
       "      <th>ones</th>\n",
       "      <th>twos</th>\n",
       "      <th>threes</th>\n",
       "      <th>fours</th>\n",
       "      <th>sixes</th>\n",
       "      <th>SR</th>\n",
       "      <th>RPI</th>\n",
       "      <th>BPD</th>\n",
       "      <th>BPB</th>\n",
       "    </tr>\n",
       "  </thead>\n",
       "  <tbody>\n",
       "    <tr>\n",
       "      <th>0</th>\n",
       "      <td>A Ashish Reddy</td>\n",
       "      <td>23</td>\n",
       "      <td>280</td>\n",
       "      <td>196</td>\n",
       "      <td>15</td>\n",
       "      <td>61</td>\n",
       "      <td>83</td>\n",
       "      <td>20</td>\n",
       "      <td>1</td>\n",
       "      <td>16</td>\n",
       "      <td>15</td>\n",
       "      <td>142.857143</td>\n",
       "      <td>12.173913</td>\n",
       "      <td>13.066667</td>\n",
       "      <td>6.322581</td>\n",
       "    </tr>\n",
       "    <tr>\n",
       "      <th>1</th>\n",
       "      <td>A Chandila</td>\n",
       "      <td>2</td>\n",
       "      <td>4</td>\n",
       "      <td>7</td>\n",
       "      <td>1</td>\n",
       "      <td>3</td>\n",
       "      <td>4</td>\n",
       "      <td>0</td>\n",
       "      <td>0</td>\n",
       "      <td>0</td>\n",
       "      <td>0</td>\n",
       "      <td>57.142857</td>\n",
       "      <td>2.000000</td>\n",
       "      <td>7.000000</td>\n",
       "      <td>7.000000</td>\n",
       "    </tr>\n",
       "    <tr>\n",
       "      <th>2</th>\n",
       "      <td>A Chopra</td>\n",
       "      <td>6</td>\n",
       "      <td>53</td>\n",
       "      <td>75</td>\n",
       "      <td>5</td>\n",
       "      <td>45</td>\n",
       "      <td>21</td>\n",
       "      <td>2</td>\n",
       "      <td>0</td>\n",
       "      <td>7</td>\n",
       "      <td>0</td>\n",
       "      <td>70.666667</td>\n",
       "      <td>8.833333</td>\n",
       "      <td>15.000000</td>\n",
       "      <td>10.714286</td>\n",
       "    </tr>\n",
       "    <tr>\n",
       "      <th>3</th>\n",
       "      <td>A Choudhary</td>\n",
       "      <td>3</td>\n",
       "      <td>25</td>\n",
       "      <td>20</td>\n",
       "      <td>2</td>\n",
       "      <td>4</td>\n",
       "      <td>13</td>\n",
       "      <td>1</td>\n",
       "      <td>0</td>\n",
       "      <td>1</td>\n",
       "      <td>1</td>\n",
       "      <td>125.000000</td>\n",
       "      <td>8.333333</td>\n",
       "      <td>10.000000</td>\n",
       "      <td>10.000000</td>\n",
       "    </tr>\n",
       "    <tr>\n",
       "      <th>4</th>\n",
       "      <td>A Dananjaya</td>\n",
       "      <td>1</td>\n",
       "      <td>4</td>\n",
       "      <td>5</td>\n",
       "      <td>0</td>\n",
       "      <td>2</td>\n",
       "      <td>2</td>\n",
       "      <td>1</td>\n",
       "      <td>0</td>\n",
       "      <td>0</td>\n",
       "      <td>0</td>\n",
       "      <td>80.000000</td>\n",
       "      <td>4.000000</td>\n",
       "      <td>5.000000</td>\n",
       "      <td>5.000000</td>\n",
       "    </tr>\n",
       "  </tbody>\n",
       "</table>\n",
       "</div>"
      ],
      "text/plain": [
       "          batsman  innings  runs  balls  dismissals  dots  ones  twos  threes  fours  sixes          SR        RPI        BPD        BPB\n",
       "0  A Ashish Reddy  23       280   196    15          61    83    20    1       16     15     142.857143  12.173913  13.066667  6.322581 \n",
       "1  A Chandila      2        4     7      1           3     4     0     0       0      0      57.142857   2.000000   7.000000   7.000000 \n",
       "2  A Chopra        6        53    75     5           45    21    2     0       7      0      70.666667   8.833333   15.000000  10.714286\n",
       "3  A Choudhary     3        25    20     2           4     13    1     0       1      1      125.000000  8.333333   10.000000  10.000000\n",
       "4  A Dananjaya     1        4     5      0           2     2     1     0       0      0      80.000000   4.000000   5.000000   5.000000 "
      ]
     },
     "execution_count": 5,
     "metadata": {},
     "output_type": "execute_result"
    }
   ],
   "source": [
    "df.head()"
   ]
  },
  {
   "cell_type": "code",
   "execution_count": 6,
   "metadata": {},
   "outputs": [],
   "source": [
    "def phase(over):\n",
    "    if over <= 6:\n",
    "        return 'Powerplay'\n",
    "    elif over <= 15:\n",
    "        return 'Middle'\n",
    "    else:\n",
    "        return 'Death'\n"
   ]
  },
  {
   "cell_type": "code",
   "execution_count": 7,
   "metadata": {},
   "outputs": [],
   "source": [
    "deliveries['phase'] = deliveries['over'].apply(lambda x: phase(x))\n"
   ]
  },
  {
   "cell_type": "code",
   "execution_count": 8,
   "metadata": {},
   "outputs": [],
   "source": [
    "def phasesOfplay(df, current_phase):\n",
    "    \n",
    "    df = df[df.phase == current_phase]\n",
    "    df.reset_index(inplace = True, drop = True)\n",
    "    \n",
    "    df['isDot'] = df['batsman_runs'].apply(lambda x: 1 if x == 0 else 0)\n",
    "    df['isOne'] = df['batsman_runs'].apply(lambda x: 1 if x == 1 else 0)\n",
    "    df['isTwo'] = df['batsman_runs'].apply(lambda x: 1 if x == 2 else 0)\n",
    "    df['isThree'] = df['batsman_runs'].apply(lambda x: 1 if x == 3 else 0)\n",
    "    df['isFour'] = df['batsman_runs'].apply(lambda x: 1 if x == 4 else 0)\n",
    "    df['isSix'] = df['batsman_runs'].apply(lambda x: 1 if x == 6 else 0)\n",
    "    \n",
    "    runs = pd.DataFrame(df.groupby(['batsman', 'match_id'])['batsman_runs'].sum().reset_index()).groupby(['batsman'])['batsman_runs'].sum().reset_index().rename(columns={'batsman_runs':'runs'})\n",
    "    innings = pd.DataFrame(df.groupby(['batsman'])['match_id'].apply(lambda x: len(list(np.unique(x)))).reset_index()).rename(columns = {'match_id':'innings'})\n",
    "    balls = pd.DataFrame(df.groupby(['batsman'])['match_id'].count()).reset_index().rename(columns = {'match_id':'balls'})\n",
    "    dismissals = pd.DataFrame(df.groupby(['batsman'])['player_dismissed'].count()).reset_index().rename(columns = {'player_dismissed':'dismissals'})\n",
    "    \n",
    "    dots = pd.DataFrame(df.groupby(['batsman'])['isDot'].sum()).reset_index().rename(columns = {'isDot':'dots'})\n",
    "    ones = pd.DataFrame(df.groupby(['batsman'])['isOne'].sum()).reset_index().rename(columns = {'isOne':'ones'})\n",
    "    twos = pd.DataFrame(df.groupby(['batsman'])['isTwo'].sum()).reset_index().rename(columns = {'isTwo':'twos'})\n",
    "    threes = pd.DataFrame(df.groupby(['batsman'])['isThree'].sum()).reset_index().rename(columns = {'isThree':'threes'})\n",
    "    fours = pd.DataFrame(df.groupby(['batsman'])['isFour'].sum()).reset_index().rename(columns = {'isFour':'fours'})\n",
    "    sixes = pd.DataFrame(df.groupby(['batsman'])['isSix'].sum()).reset_index().rename(columns = {'isSix':'sixes'})\n",
    "    \n",
    "    df = pd.merge(innings, runs, on = 'batsman').merge(balls, on = 'batsman').merge(dismissals, on = 'batsman').merge(dots, on = 'batsman').merge(ones, on = 'batsman').merge(twos, on = 'batsman').merge(threes, on = 'batsman').merge(fours, on = 'batsman').merge(sixes, on = 'batsman')\n",
    "    \n",
    "    #StrikeRate\n",
    "    df['SR'] = df.apply(lambda x: 100*(x['runs']/x['balls']), axis = 1)\n",
    "\n",
    "    #runs per innings\n",
    "    df['RPI'] = df.apply(lambda x: x['runs']/x['innings'], axis = 1)\n",
    "\n",
    "    #balls per dismissals\n",
    "    df['BPD'] = df.apply(lambda x: balls_per_dismissal(x['balls'], x['dismissals']), axis = 1)\n",
    "\n",
    "    #balls per boundary\n",
    "    df['BPB'] = df.apply(lambda x: balls_per_boundary(x['balls'], (x['fours'] + x['sixes'])), axis = 1)\n",
    "    \n",
    "    return df"
   ]
  },
  {
   "cell_type": "code",
   "execution_count": 9,
   "metadata": {},
   "outputs": [],
   "source": [
    "pp_df = phasesOfplay(deliveries, 'Powerplay')\n",
    "mid_df = phasesOfplay(deliveries, 'Middle')\n",
    "dth_df = phasesOfplay(deliveries, 'Death')"
   ]
  },
  {
   "attachments": {},
   "cell_type": "markdown",
   "metadata": {},
   "source": [
    "1ST INNINGS VS 2ND INNINGS"
   ]
  },
  {
   "cell_type": "code",
   "execution_count": 10,
   "metadata": {},
   "outputs": [],
   "source": [
    "def ByInning(df, current_inning):\n",
    "    \n",
    "    df = df[df.inning == current_inning]\n",
    "    df.reset_index(inplace = True, drop = True)\n",
    "    \n",
    "    df['isDot'] = df['batsman_runs'].apply(lambda x: 1 if x == 0 else 0)\n",
    "    df['isOne'] = df['batsman_runs'].apply(lambda x: 1 if x == 1 else 0)\n",
    "    df['isTwo'] = df['batsman_runs'].apply(lambda x: 1 if x == 2 else 0)\n",
    "    df['isThree'] = df['batsman_runs'].apply(lambda x: 1 if x == 3 else 0)\n",
    "    df['isFour'] = df['batsman_runs'].apply(lambda x: 1 if x == 4 else 0)\n",
    "    df['isSix'] = df['batsman_runs'].apply(lambda x: 1 if x == 6 else 0)\n",
    "    \n",
    "    runs = pd.DataFrame(df.groupby(['batsman', 'match_id'])['batsman_runs'].sum().reset_index()).groupby(['batsman'])['batsman_runs'].sum().reset_index().rename(columns={'batsman_runs':'runs'})\n",
    "    innings = pd.DataFrame(df.groupby(['batsman'])['match_id'].apply(lambda x: len(list(np.unique(x)))).reset_index()).rename(columns = {'match_id':'innings'})\n",
    "    balls = pd.DataFrame(df.groupby(['batsman'])['match_id'].count()).reset_index().rename(columns = {'match_id':'balls'})\n",
    "    dismissals = pd.DataFrame(df.groupby(['batsman'])['player_dismissed'].count()).reset_index().rename(columns = {'player_dismissed':'dismissals'})\n",
    "    \n",
    "    dots = pd.DataFrame(df.groupby(['batsman'])['isDot'].sum()).reset_index().rename(columns = {'isDot':'dots'})\n",
    "    ones = pd.DataFrame(df.groupby(['batsman'])['isOne'].sum()).reset_index().rename(columns = {'isOne':'ones'})\n",
    "    twos = pd.DataFrame(df.groupby(['batsman'])['isTwo'].sum()).reset_index().rename(columns = {'isTwo':'twos'})\n",
    "    threes = pd.DataFrame(df.groupby(['batsman'])['isThree'].sum()).reset_index().rename(columns = {'isThree':'threes'})\n",
    "    fours = pd.DataFrame(df.groupby(['batsman'])['isFour'].sum()).reset_index().rename(columns = {'isFour':'fours'})\n",
    "    sixes = pd.DataFrame(df.groupby(['batsman'])['isSix'].sum()).reset_index().rename(columns = {'isSix':'sixes'})\n",
    "    \n",
    "    df = pd.merge(innings, runs, on = 'batsman').merge(balls, on = 'batsman').merge(dismissals, on = 'batsman').merge(dots, on = 'batsman').merge(ones, on = 'batsman').merge(twos, on = 'batsman').merge(threes, on = 'batsman').merge(fours, on = 'batsman').merge(sixes, on = 'batsman')\n",
    "    \n",
    "    #StrikeRate\n",
    "    df['SR'] = df.apply(lambda x: 100*(x['runs']/x['balls']), axis = 1)\n",
    "\n",
    "    #runs per innings\n",
    "    df['RPI'] = df.apply(lambda x: x['runs']/x['innings'], axis = 1)\n",
    "\n",
    "    #balls per dismissals\n",
    "    df['BPD'] = df.apply(lambda x: balls_per_dismissal(x['balls'], x['dismissals']), axis = 1)\n",
    "\n",
    "    #balls per boundary\n",
    "    df['BPB'] = df.apply(lambda x: balls_per_boundary(x['balls'], (x['fours'] + x['sixes'])), axis = 1)\n",
    "    \n",
    "    return df"
   ]
  },
  {
   "cell_type": "code",
   "execution_count": 11,
   "metadata": {},
   "outputs": [],
   "source": [
    "ing1_df = ByInning(deliveries, 1)\n",
    "ing2_df = ByInning(deliveries, 2)"
   ]
  },
  {
   "cell_type": "code",
   "execution_count": 12,
   "metadata": {},
   "outputs": [],
   "source": [
    "comp = ing1_df[['batsman', 'RPI']].merge(ing2_df[['batsman', 'RPI']], on = 'batsman', how = 'inner').rename(columns = {'RPI_x':'1st_RPI', 'RPI_y':'2nd_RPI' })"
   ]
  },
  {
   "cell_type": "code",
   "execution_count": 13,
   "metadata": {},
   "outputs": [
    {
     "data": {
      "application/vnd.plotly.v1+json": {
       "config": {
        "plotlyServerURL": "https://plot.ly"
       },
       "data": [
        {
         "mode": "markers",
         "text": [
          "A Ashish Reddy",
          "A Chopra",
          "A Choudhary",
          "A Flintoff",
          "A Hales",
          "A Kumble",
          "A Mishra",
          "A Mithun",
          "A Mukund",
          "A Nehra",
          "A Singh",
          "A Symonds",
          "A Turner",
          "A Uniyal",
          "AA Bilakhia",
          "AA Chavan",
          "AA Jhunjhunwala",
          "AB Agarkar",
          "AB Dinda",
          "AB McDonald",
          "AB de Villiers",
          "AC Blizzard",
          "AC Gilchrist",
          "AC Thomas",
          "AC Voges",
          "AD Mascarenhas",
          "AD Mathews",
          "AD Nath",
          "AD Russell",
          "AF Milne",
          "AG Murtaza",
          "AG Paunikar",
          "AJ Finch",
          "AJ Tye",
          "AL Menaria",
          "AM Nayar",
          "AM Rahane",
          "AN Ahmed",
          "AN Ghosh",
          "AP Dole",
          "AP Majumdar",
          "AP Tare",
          "AR Patel",
          "AS Rajpoot",
          "AS Raut",
          "AS Yadav",
          "AT Rayudu",
          "AUK Pathan",
          "Anirudh Singh",
          "Ankit Sharma",
          "Anureet Singh",
          "Azhar Mahmood",
          "B Akhil",
          "B Chipli",
          "B Kumar",
          "B Laughlin",
          "B Lee",
          "B Sumanth",
          "BA Bhatt",
          "BA Stokes",
          "BAW Mendis",
          "BB McCullum",
          "BB Samantray",
          "BB Sran",
          "BCJ Cutting",
          "BJ Hodge",
          "BJ Rohrer",
          "BMAJ Mendis",
          "BR Dunk",
          "Basil Thampi",
          "Bipul Sharma",
          "C Ingram",
          "C Munro",
          "C de Grandhomme",
          "CA Ingram",
          "CA Lynn",
          "CA Pujara",
          "CH Gayle",
          "CH Morris",
          "CJ Anderson",
          "CJ Ferguson",
          "CJ Jordan",
          "CK Kapugedera",
          "CL White",
          "CM Gautam",
          "CR Brathwaite",
          "CR Woakes",
          "D Salunkhe",
          "D Short",
          "D Wiese",
          "DA Miller",
          "DA Warner",
          "DB Das",
          "DB Ravi Teja",
          "DE Bollinger",
          "DH Yagnik",
          "DJ Bravo",
          "DJ Harris",
          "DJ Hooda",
          "DJ Hussey",
          "DJ Jacobs",
          "DJ Thornely",
          "DJG Sammy",
          "DL Vettori",
          "DNT Zoysa",
          "DPMD Jayawardene",
          "DR Smith",
          "DS Kulkarni",
          "DS Lehmann",
          "DT Christian",
          "DT Patil",
          "DW Steyn",
          "E Lewis",
          "EJG Morgan",
          "F Behardien",
          "F du Plessis",
          "FY Fazal",
          "G Gambhir",
          "GC Smith",
          "GH Vihari",
          "GJ Bailey",
          "GJ Maxwell",
          "Gurkeerat Singh",
          "H Klaasen",
          "H Viljoen",
          "HH Gibbs",
          "HH Pandya",
          "HM Amla",
          "HV Patel",
          "Harbhajan Singh",
          "Harmeet Singh",
          "Harpreet Singh",
          "I Sharma",
          "IK Pathan",
          "IR Jaggi",
          "Imran Tahir",
          "Iqbal Abdulla",
          "Ishan Kishan",
          "J Archer",
          "J Arunkumar",
          "J Bairstow",
          "J Botha",
          "J Suchith",
          "J Theron",
          "JA Morkel",
          "JC Buttler",
          "JD Ryder",
          "JD Unadkat",
          "JDP Oram",
          "JDS Neesham",
          "JE Taylor",
          "JEC Franklin",
          "JH Kallis",
          "JJ Bumrah",
          "JJ Roy",
          "JO Holder",
          "JP Duminy",
          "JP Faulkner",
          "JR Hopes",
          "Jaskaran Singh",
          "Joginder Sharma",
          "K Goel",
          "K Gowtham",
          "K Paul",
          "K Rabada",
          "KA Pollard",
          "KB Arun Karthik",
          "KC Cariappa",
          "KC Sangakkara",
          "KD Karthik",
          "KH Pandya",
          "KJ Abbott",
          "KK Cooper",
          "KK Nair",
          "KL Rahul",
          "KM Jadhav",
          "KP Appanna",
          "KP Pietersen",
          "KS Williamson",
          "KV Sharma",
          "KW Richardson",
          "Kamran Akmal",
          "Kuldeep Yadav",
          "L Balaji",
          "L Livingstone",
          "L Plunkett",
          "L Ronchi",
          "LA Carseldine",
          "LA Pomersbach",
          "LJ Wright",
          "LMP Simmons",
          "LPC Silva",
          "LR Shukla",
          "LRPL Taylor",
          "M Ali",
          "M Ashwin",
          "M Kaif",
          "M Kartik",
          "M Klinger",
          "M Lomror",
          "M Manhas",
          "M Markande",
          "M Morkel",
          "M Muralitharan",
          "M Ntini",
          "M Rawat",
          "M Ur Rahman",
          "M Vijay",
          "M Vohra",
          "MA Agarwal",
          "MA Khote",
          "MA Starc",
          "MC Henriques",
          "MC Juneja",
          "MD Mishra",
          "MEK Hussey",
          "MF Maharoof",
          "MG Johnson",
          "MJ Clarke",
          "MJ Guptill",
          "MJ Lumb",
          "MJ McClenaghan",
          "MK Pandey",
          "MK Tiwary",
          "ML Hayden",
          "MM Patel",
          "MM Sharma",
          "MN Samuels",
          "MN van Wyk",
          "MP Stoinis",
          "MR Marsh",
          "MS Bisla",
          "MS Dhoni",
          "MS Gony",
          "MS Wade",
          "MV Boucher",
          "Mandeep Singh",
          "Misbah-ul-Haq",
          "Mohammad Hafeez",
          "Mohammad Nabi",
          "Mohammed Shami",
          "Mohammed Siraj",
          "N Pooran",
          "N Rana",
          "N Saini",
          "NL McCullum",
          "NLTC Perera",
          "NM Coulter-Nile",
          "NS Naik",
          "NV Ojha",
          "Niraj Patel",
          "OA Shah",
          "P Awana",
          "P Dogra",
          "P Krishna",
          "P Kumar",
          "P Negi",
          "P Parameswaran",
          "P Shaw",
          "PA Patel",
          "PA Reddy",
          "PC Valthaty",
          "PD Collingwood",
          "PJ Cummins",
          "PJ Sangwan",
          "PP Chawla",
          "PP Ojha",
          "PR Shah",
          "PV Tambe",
          "Pankaj Singh",
          "Parvez Rasool",
          "Q de Kock",
          "R Ashwin",
          "R Bhatia",
          "R Bishnoi",
          "R Dhawan",
          "R Dravid",
          "R McLaren",
          "R Parag",
          "R Rampaul",
          "R Sathish",
          "R Sharma",
          "R Shukla",
          "R Singh",
          "R Tewatia",
          "R Vinay Kumar",
          "RA Jadeja",
          "RA Tripathi",
          "RD Chahar",
          "RE Levi",
          "RE van der Merwe",
          "RG Sharma",
          "RJ Harris",
          "RJ Peterson",
          "RJ Quiney",
          "RN ten Doeschate",
          "RP Singh",
          "RR Pant",
          "RR Powar",
          "RR Raje",
          "RR Rossouw",
          "RR Sarwan",
          "RS Bopara",
          "RT Ponting",
          "RV Gomez",
          "RV Uthappa",
          "Rashid Khan",
          "S Anirudha",
          "S Aravind",
          "S Badree",
          "S Badrinath",
          "S Chanderpaul",
          "S Curran",
          "S Dhawan",
          "S Dube",
          "S Gill",
          "S Gopal",
          "S Hetmyer",
          "S Kaul",
          "S Mavi",
          "S Nadeem",
          "S Narwal",
          "S Rana",
          "S Rutherford",
          "S Sohal",
          "S Sreesanth",
          "S Vidyut",
          "SA Abbott",
          "SA Asnodkar",
          "SA Yadav",
          "SB Bangar",
          "SB Joshi",
          "SB Styris",
          "SB Wagh",
          "SC Ganguly",
          "SD Chitnis",
          "SE Marsh",
          "SJ Srivastava",
          "SK Raina",
          "SK Trivedi",
          "SK Warne",
          "SL Malinga",
          "SM Harwood",
          "SM Katich",
          "SM Pollock",
          "SMSM Senanayake",
          "SN Khan",
          "SN Thakur",
          "SP Fleming",
          "SP Goswami",
          "SP Jackson",
          "SP Narine",
          "SPD Smith",
          "SR Tendulkar",
          "SR Watson",
          "SS Iyer",
          "SS Tiwary",
          "ST Jayasuriya",
          "STR Binny",
          "SV Samson",
          "SW Billings",
          "SW Tait",
          "Sachin Baby",
          "Salman Butt",
          "Sandeep Sharma",
          "Shahid Afridi",
          "Shakib Al Hasan",
          "Shoaib Ahmed",
          "Shoaib Malik",
          "Sohail Tanvir",
          "Sunny Singh",
          "Swapnil Singh",
          "T Curran",
          "T Henderson",
          "T Thushara",
          "TA Boult",
          "TD Paine",
          "TG Southee",
          "TL Suman",
          "TM Dilshan",
          "TM Head",
          "TM Srivastava",
          "TR Birt",
          "TS Mills",
          "UBT Chand",
          "UT Khawaja",
          "UT Yadav",
          "Umar Gul",
          "V Kohli",
          "V Sehwag",
          "V Shankar",
          "VR Aaron",
          "VRV Singh",
          "VS Malik",
          "VVS Laxman",
          "VY Mahesh",
          "W Jaffer",
          "WA Mota",
          "WD Parnell",
          "WP Saha",
          "WPUJC Vaas",
          "Washington Sundar",
          "Y Nagar",
          "Y Venugopal Rao",
          "YK Pathan",
          "YS Chahal",
          "YV Takawale",
          "Yashpal Singh",
          "Yuvraj Singh",
          "Z Khan"
         ],
         "textposition": "top center",
         "type": "scatter",
         "x": [
          12.76923076923077,
          10.2,
          15,
          22,
          17.666666666666668,
          2.2,
          5.8,
          4,
          19,
          0.6666666666666666,
          0.5,
          32.73684210526316,
          0,
          4,
          9.666666666666666,
          4,
          20.285714285714285,
          10.636363636363637,
          1,
          14.8,
          37.371428571428574,
          21.5,
          23,
          0,
          27.6,
          8.8,
          16.4,
          11.166666666666666,
          32.708333333333336,
          0,
          2,
          8,
          23.128205128205128,
          6.428571428571429,
          16.666666666666668,
          15.521739130434783,
          30.26865671641791,
          4,
          7,
          4,
          30,
          12.3125,
          12.411764705882353,
          2.3333333333333335,
          9.875,
          28.347826086956523,
          23.608695652173914,
          0.6666666666666666,
          20,
          14.555555555555555,
          4,
          19.666666666666668,
          6.2,
          12.153846153846153,
          4.1,
          1,
          5.818181818181818,
          6.5,
          6,
          18.625,
          1,
          28.677966101694917,
          18.333333333333332,
          1,
          13.363636363636363,
          20.4375,
          30.333333333333332,
          11,
          15,
          4.2,
          7.555555555555555,
          16.5,
          17.142857142857142,
          13.8,
          13,
          32.22222222222222,
          17.333333333333332,
          41.125,
          14.8,
          19.1875,
          10.5,
          0,
          4,
          25.615384615384617,
          13,
          15.4,
          6.8,
          26,
          14,
          9.333333333333334,
          21,
          38.37313432835821,
          18.4,
          15.133333333333333,
          7,
          11.5,
          16.354166666666668,
          33,
          11,
          20.52777777777778,
          13.8,
          12.666666666666666,
          18.333333333333332,
          8.428571428571429,
          1,
          21.714285714285715,
          24.02173913043478,
          3.142857142857143,
          1,
          14.454545454545455,
          4,
          5.352941176470588,
          30.181818181818183,
          16.625,
          5,
          29.96875,
          23,
          28.370967741935484,
          33.54545454545455,
          9.545454545454545,
          20.85,
          20.243243243243242,
          14.75,
          20,
          3,
          26.22222222222222,
          18.757575757575758,
          53.25,
          11.666666666666666,
          10.642857142857142,
          14,
          13,
          3.875,
          13.069767441860465,
          13.6,
          3.5,
          1.8,
          25.842105263157894,
          3.8,
          1,
          40.5,
          8.625,
          3.3333333333333335,
          0,
          11.976744186046512,
          27.263157894736842,
          21.214285714285715,
          4.625,
          10.777777777777779,
          12,
          1,
          23.6,
          24.57894736842105,
          1.8,
          15.166666666666666,
          10.666666666666666,
          28.595744680851062,
          10.714285714285714,
          22,
          3,
          8,
          15.125,
          6.5,
          4.25,
          5.333333333333333,
          20.533333333333335,
          8,
          5,
          28.63157894736842,
          25.725,
          19.296296296296298,
          6.5,
          9,
          23.870967741935484,
          25.393939393939394,
          15.91891891891892,
          0,
          25.785714285714285,
          35.17391304347826,
          6.4,
          4.5,
          53,
          4,
          2.5,
          14,
          1,
          7,
          12.5,
          19.833333333333332,
          39,
          36.833333333333336,
          11.5,
          13.4,
          19.25,
          31.11111111111111,
          1,
          9.666666666666666,
          8.666666666666666,
          26.5,
          8.5,
          14.8,
          5,
          2,
          2.6,
          11,
          1.5,
          0.5,
          27.814814814814813,
          22.25,
          16.4,
          7,
          7,
          19.805555555555557,
          13.5,
          12.571428571428571,
          37.51428571428571,
          13.857142857142858,
          5.9411764705882355,
          16,
          18.2,
          15,
          2.5454545454545454,
          27.333333333333332,
          21.238095238095237,
          32.473684210526315,
          1.6666666666666667,
          4.230769230769231,
          19.333333333333332,
          33.75,
          19.294117647058822,
          17.142857142857142,
          20.615384615384617,
          26.32,
          9.714285714285714,
          9.5,
          15,
          18.155555555555555,
          13.833333333333334,
          6.333333333333333,
          11.428571428571429,
          0.875,
          2,
          23,
          22.105263157894736,
          8.142857142857142,
          11,
          11.421052631578947,
          4,
          22,
          16.6,
          14,
          31.083333333333332,
          1.6666666666666667,
          7,
          0,
          5.875,
          12.35,
          1,
          22.384615384615383,
          20.391304347826086,
          12,
          17.083333333333332,
          37,
          8.666666666666666,
          1.625,
          7.951219512195122,
          1.0909090909090908,
          9.5,
          2,
          0.5,
          4,
          29.23076923076923,
          6.884615384615385,
          7,
          18,
          9.555555555555555,
          27.805555555555557,
          14.875,
          25,
          3.2,
          9.75,
          5,
          1.5,
          9.75,
          9.857142857142858,
          6.608695652173913,
          16.8,
          23.9375,
          4.333333333333333,
          15,
          10.666666666666666,
          29.24742268041237,
          5.9,
          13,
          19.333333333333332,
          18.5,
          2.230769230769231,
          33.48,
          9,
          2.25,
          1,
          7,
          19.866666666666667,
          9.833333333333334,
          6.25,
          26.794117647058822,
          6.545454545454546,
          12.11111111111111,
          4.5,
          3,
          22.7,
          2,
          16.8,
          29.560439560439562,
          2,
          20.846153846153847,
          11.25,
          0.5,
          1.5,
          7,
          1.2857142857142858,
          8.333333333333334,
          10.6,
          23,
          18.4,
          2.5714285714285716,
          19.8,
          14,
          33,
          12.2,
          7,
          3,
          9.833333333333334,
          2,
          22.53125,
          12.4,
          35.425,
          1.6666666666666667,
          30.174757281553397,
          2.625,
          6.384615384615385,
          3,
          6,
          5.5,
          21.6,
          7,
          21.923076923076923,
          1.75,
          10.8,
          16.733333333333334,
          10,
          13.636363636363637,
          29.21875,
          29.452380952380953,
          27.266666666666666,
          28.903225806451612,
          22.606060606060606,
          26.41176470588235,
          13.1875,
          30,
          19.727272727272727,
          3,
          21.5,
          32.4,
          0.8,
          5.4,
          17.22222222222222,
          0,
          7,
          4.666666666666667,
          8.5,
          6,
          2,
          0,
          4.5,
          6,
          2,
          11.428571428571429,
          17.875,
          28.65,
          23.857142857142858,
          1,
          23.5,
          0,
          12.4,
          18.5,
          1.8333333333333333,
          6.5,
          35.073170731707314,
          26.551020408163264,
          22.125,
          4.166666666666667,
          4,
          6,
          12.25,
          3,
          17.333333333333332,
          8,
          7.285714285714286,
          20.642857142857142,
          7.75,
          4.25,
          16.88888888888889,
          18.607142857142858,
          18.356164383561644,
          1.75,
          10.333333333333334,
          13,
          22.939393939393938,
          5.083333333333333
         ],
         "y": [
          11.4,
          2,
          5,
          20,
          33,
          2.4,
          7.689655172413793,
          6.5,
          0,
          4.375,
          0.3333333333333333,
          20.705882352941178,
          1.3333333333333333,
          0,
          10,
          4,
          9.375,
          8.857142857142858,
          2.111111111111111,
          12.25,
          24.98611111111111,
          15.4,
          28.871794871794872,
          6.666666666666667,
          21.5,
          5.833333333333333,
          19.625,
          6,
          23.428571428571427,
          3.5,
          4,
          12.5,
          24.735294117647058,
          9.8,
          18.875,
          11.666666666666666,
          28.03076923076923,
          6.4,
          0,
          30,
          19,
          12.909090909090908,
          13.714285714285714,
          5.5,
          14.375,
          29.916666666666668,
          24.594202898550726,
          9.25,
          11.5,
          4.714285714285714,
          5,
          16.88888888888889,
          7.5,
          15.25,
          5.142857142857143,
          1.3333333333333333,
          7.5,
          11,
          0,
          21.8125,
          1,
          23.98,
          7.5,
          2,
          15.5,
          24.06451612903226,
          20.4,
          6,
          12.5,
          5.5,
          14.875,
          15.125,
          15,
          15.909090909090908,
          4,
          31.652173913043477,
          18.2,
          31.716666666666665,
          13.545454545454545,
          17.76923076923077,
          14,
          3,
          8,
          15.157894736842104,
          13,
          8.5,
          4.833333333333333,
          3.5,
          26.5,
          19.8,
          27.972972972972972,
          36.779661016949156,
          10,
          14.8,
          0,
          6.4,
          13.980392156862745,
          22.5,
          12.73913043478261,
          23.32,
          11.5,
          1,
          9.375,
          6.888888888888889,
          10,
          24.232558139534884,
          30.476190476190474,
          6.583333333333333,
          17,
          10.833333333333334,
          9,
          5,
          26.4,
          21.666666666666668,
          4.5,
          28.59375,
          5.5,
          27.685393258426966,
          20.555555555555557,
          17.5,
          15.375,
          21.766666666666666,
          19.09090909090909,
          7,
          0,
          23,
          17.571428571428573,
          18.875,
          4.222222222222222,
          8.795454545454545,
          1.3333333333333333,
          3.5,
          2.4,
          14.794871794871796,
          4,
          2.6,
          9.875,
          15.714285714285714,
          11,
          11,
          51,
          22.583333333333332,
          14.666666666666666,
          3.3333333333333335,
          19.125,
          35.07692307692308,
          20.466666666666665,
          4.5,
          4.5,
          15,
          2,
          19,
          26.19298245614035,
          5.6,
          47.5,
          3,
          24.892857142857142,
          12.583333333333334,
          21.916666666666668,
          1.6666666666666667,
          6.666666666666667,
          12.125,
          10.666666666666666,
          5,
          13.5,
          21.614035087719298,
          5.4,
          4.666666666666667,
          19.966666666666665,
          19.865853658536587,
          20.736842105263158,
          0,
          10.333333333333334,
          22.8125,
          47,
          15.212121212121213,
          1,
          29.09090909090909,
          28.333333333333332,
          13.5,
          13.5,
          15,
          7.5,
          3.2,
          19.333333333333332,
          0,
          6.5,
          18.666666666666668,
          18.3,
          9.333333333333334,
          37.81818181818182,
          17,
          10.538461538461538,
          18.657894736842106,
          6.2,
          0.6666666666666666,
          13.23076923076923,
          7,
          10,
          11,
          12.695652173913043,
          3,
          7.733333333333333,
          1.75,
          0,
          7,
          5.5,
          22.666666666666668,
          22.952380952380953,
          18.972972972972972,
          8.5,
          10.166666666666666,
          18.285714285714285,
          23.666666666666668,
          14.9,
          28.869565217391305,
          11.428571428571429,
          6.090909090909091,
          16.4,
          29.333333333333332,
          34.6,
          7,
          21.61764705882353,
          19.634146341463413,
          37.69230769230769,
          4.833333333333333,
          5.75,
          5.625,
          32,
          19.25,
          15,
          20.384615384615383,
          26.357142857142858,
          3.875,
          3,
          18.76923076923077,
          19.210526315789473,
          17,
          13,
          20,
          5.875,
          9.333333333333334,
          36,
          31.09090909090909,
          17.2,
          15,
          18.636363636363637,
          6.666666666666667,
          1,
          16.477272727272727,
          21.4,
          13.3,
          0,
          21.333333333333332,
          1,
          6.08,
          7.933333333333334,
          0,
          27.083333333333332,
          21.895522388059703,
          19.333333333333332,
          27.272727272727273,
          18.333333333333332,
          8.5,
          2.4,
          7.676470588235294,
          0.5,
          11.666666666666666,
          3.2,
          2,
          4.333333333333333,
          30.375,
          8.458333333333334,
          7.565217391304348,
          0.5,
          9.571428571428571,
          25.5,
          8,
          47,
          17.5,
          12.75,
          2.3636363636363638,
          8,
          11.333333333333334,
          10,
          8.368421052631579,
          14.507692307692308,
          22.823529411764707,
          1,
          13.25,
          10.5,
          24.435294117647057,
          5.2727272727272725,
          4.75,
          11.25,
          12.818181818181818,
          1.5333333333333334,
          32.724137931034484,
          4.333333333333333,
          11,
          13,
          22,
          33.285714285714285,
          10.666666666666666,
          0,
          25.705882352941178,
          6.166666666666667,
          9,
          6.25,
          2.5,
          21.32,
          11.5,
          3.6666666666666665,
          28.98507462686567,
          12.666666666666666,
          24.6,
          6.833333333333333,
          30.666666666666668,
          1.8,
          3,
          2.3,
          12,
          12.666666666666666,
          7.2,
          18.4,
          3.2,
          15.333333333333334,
          1,
          14.454545454545455,
          16.545454545454547,
          7,
          3,
          18,
          0,
          26.166666666666668,
          12.333333333333334,
          36.55172413793103,
          0,
          26.732558139534884,
          3.5,
          8.214285714285714,
          5,
          3,
          25.555555555555557,
          13,
          1,
          14.555555555555555,
          9.666666666666666,
          28.4,
          12.5,
          14,
          15.71875,
          27.55,
          30.47222222222222,
          28.17142857142857,
          27.133333333333333,
          17.096774193548388,
          24.53846153846154,
          13.529411764705882,
          22.5,
          15.125,
          11,
          8.5,
          15.5,
          2.4444444444444446,
          13.5,
          15.368421052631579,
          0.5,
          24,
          11,
          8.666666666666666,
          0,
          18,
          11,
          1.5,
          2,
          8,
          5.833333333333333,
          16.956521739130434,
          19.333333333333332,
          12.666666666666666,
          3.5,
          9.333333333333334,
          4,
          17.6,
          22.5,
          5,
          13,
          29.344827586206897,
          25.945454545454545,
          20,
          6,
          0,
          1,
          16.875,
          3,
          15.6,
          4,
          2.4,
          16.864864864864863,
          6.333333333333333,
          7.75,
          12.090909090909092,
          19.333333333333332,
          23.5375,
          1.875,
          32.5,
          11.333333333333334,
          20.783333333333335,
          3.7333333333333334
         ]
        }
       ],
       "layout": {
        "height": 500,
        "template": {
         "data": {
          "bar": [
           {
            "error_x": {
             "color": "#2a3f5f"
            },
            "error_y": {
             "color": "#2a3f5f"
            },
            "marker": {
             "line": {
              "color": "#E5ECF6",
              "width": 0.5
             },
             "pattern": {
              "fillmode": "overlay",
              "size": 10,
              "solidity": 0.2
             }
            },
            "type": "bar"
           }
          ],
          "barpolar": [
           {
            "marker": {
             "line": {
              "color": "#E5ECF6",
              "width": 0.5
             },
             "pattern": {
              "fillmode": "overlay",
              "size": 10,
              "solidity": 0.2
             }
            },
            "type": "barpolar"
           }
          ],
          "carpet": [
           {
            "aaxis": {
             "endlinecolor": "#2a3f5f",
             "gridcolor": "white",
             "linecolor": "white",
             "minorgridcolor": "white",
             "startlinecolor": "#2a3f5f"
            },
            "baxis": {
             "endlinecolor": "#2a3f5f",
             "gridcolor": "white",
             "linecolor": "white",
             "minorgridcolor": "white",
             "startlinecolor": "#2a3f5f"
            },
            "type": "carpet"
           }
          ],
          "choropleth": [
           {
            "colorbar": {
             "outlinewidth": 0,
             "ticks": ""
            },
            "type": "choropleth"
           }
          ],
          "contour": [
           {
            "colorbar": {
             "outlinewidth": 0,
             "ticks": ""
            },
            "colorscale": [
             [
              0,
              "#0d0887"
             ],
             [
              0.1111111111111111,
              "#46039f"
             ],
             [
              0.2222222222222222,
              "#7201a8"
             ],
             [
              0.3333333333333333,
              "#9c179e"
             ],
             [
              0.4444444444444444,
              "#bd3786"
             ],
             [
              0.5555555555555556,
              "#d8576b"
             ],
             [
              0.6666666666666666,
              "#ed7953"
             ],
             [
              0.7777777777777778,
              "#fb9f3a"
             ],
             [
              0.8888888888888888,
              "#fdca26"
             ],
             [
              1,
              "#f0f921"
             ]
            ],
            "type": "contour"
           }
          ],
          "contourcarpet": [
           {
            "colorbar": {
             "outlinewidth": 0,
             "ticks": ""
            },
            "type": "contourcarpet"
           }
          ],
          "heatmap": [
           {
            "colorbar": {
             "outlinewidth": 0,
             "ticks": ""
            },
            "colorscale": [
             [
              0,
              "#0d0887"
             ],
             [
              0.1111111111111111,
              "#46039f"
             ],
             [
              0.2222222222222222,
              "#7201a8"
             ],
             [
              0.3333333333333333,
              "#9c179e"
             ],
             [
              0.4444444444444444,
              "#bd3786"
             ],
             [
              0.5555555555555556,
              "#d8576b"
             ],
             [
              0.6666666666666666,
              "#ed7953"
             ],
             [
              0.7777777777777778,
              "#fb9f3a"
             ],
             [
              0.8888888888888888,
              "#fdca26"
             ],
             [
              1,
              "#f0f921"
             ]
            ],
            "type": "heatmap"
           }
          ],
          "heatmapgl": [
           {
            "colorbar": {
             "outlinewidth": 0,
             "ticks": ""
            },
            "colorscale": [
             [
              0,
              "#0d0887"
             ],
             [
              0.1111111111111111,
              "#46039f"
             ],
             [
              0.2222222222222222,
              "#7201a8"
             ],
             [
              0.3333333333333333,
              "#9c179e"
             ],
             [
              0.4444444444444444,
              "#bd3786"
             ],
             [
              0.5555555555555556,
              "#d8576b"
             ],
             [
              0.6666666666666666,
              "#ed7953"
             ],
             [
              0.7777777777777778,
              "#fb9f3a"
             ],
             [
              0.8888888888888888,
              "#fdca26"
             ],
             [
              1,
              "#f0f921"
             ]
            ],
            "type": "heatmapgl"
           }
          ],
          "histogram": [
           {
            "marker": {
             "pattern": {
              "fillmode": "overlay",
              "size": 10,
              "solidity": 0.2
             }
            },
            "type": "histogram"
           }
          ],
          "histogram2d": [
           {
            "colorbar": {
             "outlinewidth": 0,
             "ticks": ""
            },
            "colorscale": [
             [
              0,
              "#0d0887"
             ],
             [
              0.1111111111111111,
              "#46039f"
             ],
             [
              0.2222222222222222,
              "#7201a8"
             ],
             [
              0.3333333333333333,
              "#9c179e"
             ],
             [
              0.4444444444444444,
              "#bd3786"
             ],
             [
              0.5555555555555556,
              "#d8576b"
             ],
             [
              0.6666666666666666,
              "#ed7953"
             ],
             [
              0.7777777777777778,
              "#fb9f3a"
             ],
             [
              0.8888888888888888,
              "#fdca26"
             ],
             [
              1,
              "#f0f921"
             ]
            ],
            "type": "histogram2d"
           }
          ],
          "histogram2dcontour": [
           {
            "colorbar": {
             "outlinewidth": 0,
             "ticks": ""
            },
            "colorscale": [
             [
              0,
              "#0d0887"
             ],
             [
              0.1111111111111111,
              "#46039f"
             ],
             [
              0.2222222222222222,
              "#7201a8"
             ],
             [
              0.3333333333333333,
              "#9c179e"
             ],
             [
              0.4444444444444444,
              "#bd3786"
             ],
             [
              0.5555555555555556,
              "#d8576b"
             ],
             [
              0.6666666666666666,
              "#ed7953"
             ],
             [
              0.7777777777777778,
              "#fb9f3a"
             ],
             [
              0.8888888888888888,
              "#fdca26"
             ],
             [
              1,
              "#f0f921"
             ]
            ],
            "type": "histogram2dcontour"
           }
          ],
          "mesh3d": [
           {
            "colorbar": {
             "outlinewidth": 0,
             "ticks": ""
            },
            "type": "mesh3d"
           }
          ],
          "parcoords": [
           {
            "line": {
             "colorbar": {
              "outlinewidth": 0,
              "ticks": ""
             }
            },
            "type": "parcoords"
           }
          ],
          "pie": [
           {
            "automargin": true,
            "type": "pie"
           }
          ],
          "scatter": [
           {
            "fillpattern": {
             "fillmode": "overlay",
             "size": 10,
             "solidity": 0.2
            },
            "type": "scatter"
           }
          ],
          "scatter3d": [
           {
            "line": {
             "colorbar": {
              "outlinewidth": 0,
              "ticks": ""
             }
            },
            "marker": {
             "colorbar": {
              "outlinewidth": 0,
              "ticks": ""
             }
            },
            "type": "scatter3d"
           }
          ],
          "scattercarpet": [
           {
            "marker": {
             "colorbar": {
              "outlinewidth": 0,
              "ticks": ""
             }
            },
            "type": "scattercarpet"
           }
          ],
          "scattergeo": [
           {
            "marker": {
             "colorbar": {
              "outlinewidth": 0,
              "ticks": ""
             }
            },
            "type": "scattergeo"
           }
          ],
          "scattergl": [
           {
            "marker": {
             "colorbar": {
              "outlinewidth": 0,
              "ticks": ""
             }
            },
            "type": "scattergl"
           }
          ],
          "scattermapbox": [
           {
            "marker": {
             "colorbar": {
              "outlinewidth": 0,
              "ticks": ""
             }
            },
            "type": "scattermapbox"
           }
          ],
          "scatterpolar": [
           {
            "marker": {
             "colorbar": {
              "outlinewidth": 0,
              "ticks": ""
             }
            },
            "type": "scatterpolar"
           }
          ],
          "scatterpolargl": [
           {
            "marker": {
             "colorbar": {
              "outlinewidth": 0,
              "ticks": ""
             }
            },
            "type": "scatterpolargl"
           }
          ],
          "scatterternary": [
           {
            "marker": {
             "colorbar": {
              "outlinewidth": 0,
              "ticks": ""
             }
            },
            "type": "scatterternary"
           }
          ],
          "surface": [
           {
            "colorbar": {
             "outlinewidth": 0,
             "ticks": ""
            },
            "colorscale": [
             [
              0,
              "#0d0887"
             ],
             [
              0.1111111111111111,
              "#46039f"
             ],
             [
              0.2222222222222222,
              "#7201a8"
             ],
             [
              0.3333333333333333,
              "#9c179e"
             ],
             [
              0.4444444444444444,
              "#bd3786"
             ],
             [
              0.5555555555555556,
              "#d8576b"
             ],
             [
              0.6666666666666666,
              "#ed7953"
             ],
             [
              0.7777777777777778,
              "#fb9f3a"
             ],
             [
              0.8888888888888888,
              "#fdca26"
             ],
             [
              1,
              "#f0f921"
             ]
            ],
            "type": "surface"
           }
          ],
          "table": [
           {
            "cells": {
             "fill": {
              "color": "#EBF0F8"
             },
             "line": {
              "color": "white"
             }
            },
            "header": {
             "fill": {
              "color": "#C8D4E3"
             },
             "line": {
              "color": "white"
             }
            },
            "type": "table"
           }
          ]
         },
         "layout": {
          "annotationdefaults": {
           "arrowcolor": "#2a3f5f",
           "arrowhead": 0,
           "arrowwidth": 1
          },
          "autotypenumbers": "strict",
          "coloraxis": {
           "colorbar": {
            "outlinewidth": 0,
            "ticks": ""
           }
          },
          "colorscale": {
           "diverging": [
            [
             0,
             "#8e0152"
            ],
            [
             0.1,
             "#c51b7d"
            ],
            [
             0.2,
             "#de77ae"
            ],
            [
             0.3,
             "#f1b6da"
            ],
            [
             0.4,
             "#fde0ef"
            ],
            [
             0.5,
             "#f7f7f7"
            ],
            [
             0.6,
             "#e6f5d0"
            ],
            [
             0.7,
             "#b8e186"
            ],
            [
             0.8,
             "#7fbc41"
            ],
            [
             0.9,
             "#4d9221"
            ],
            [
             1,
             "#276419"
            ]
           ],
           "sequential": [
            [
             0,
             "#0d0887"
            ],
            [
             0.1111111111111111,
             "#46039f"
            ],
            [
             0.2222222222222222,
             "#7201a8"
            ],
            [
             0.3333333333333333,
             "#9c179e"
            ],
            [
             0.4444444444444444,
             "#bd3786"
            ],
            [
             0.5555555555555556,
             "#d8576b"
            ],
            [
             0.6666666666666666,
             "#ed7953"
            ],
            [
             0.7777777777777778,
             "#fb9f3a"
            ],
            [
             0.8888888888888888,
             "#fdca26"
            ],
            [
             1,
             "#f0f921"
            ]
           ],
           "sequentialminus": [
            [
             0,
             "#0d0887"
            ],
            [
             0.1111111111111111,
             "#46039f"
            ],
            [
             0.2222222222222222,
             "#7201a8"
            ],
            [
             0.3333333333333333,
             "#9c179e"
            ],
            [
             0.4444444444444444,
             "#bd3786"
            ],
            [
             0.5555555555555556,
             "#d8576b"
            ],
            [
             0.6666666666666666,
             "#ed7953"
            ],
            [
             0.7777777777777778,
             "#fb9f3a"
            ],
            [
             0.8888888888888888,
             "#fdca26"
            ],
            [
             1,
             "#f0f921"
            ]
           ]
          },
          "colorway": [
           "#636efa",
           "#EF553B",
           "#00cc96",
           "#ab63fa",
           "#FFA15A",
           "#19d3f3",
           "#FF6692",
           "#B6E880",
           "#FF97FF",
           "#FECB52"
          ],
          "font": {
           "color": "#2a3f5f"
          },
          "geo": {
           "bgcolor": "white",
           "lakecolor": "white",
           "landcolor": "#E5ECF6",
           "showlakes": true,
           "showland": true,
           "subunitcolor": "white"
          },
          "hoverlabel": {
           "align": "left"
          },
          "hovermode": "closest",
          "mapbox": {
           "style": "light"
          },
          "paper_bgcolor": "white",
          "plot_bgcolor": "#E5ECF6",
          "polar": {
           "angularaxis": {
            "gridcolor": "white",
            "linecolor": "white",
            "ticks": ""
           },
           "bgcolor": "#E5ECF6",
           "radialaxis": {
            "gridcolor": "white",
            "linecolor": "white",
            "ticks": ""
           }
          },
          "scene": {
           "xaxis": {
            "backgroundcolor": "#E5ECF6",
            "gridcolor": "white",
            "gridwidth": 2,
            "linecolor": "white",
            "showbackground": true,
            "ticks": "",
            "zerolinecolor": "white"
           },
           "yaxis": {
            "backgroundcolor": "#E5ECF6",
            "gridcolor": "white",
            "gridwidth": 2,
            "linecolor": "white",
            "showbackground": true,
            "ticks": "",
            "zerolinecolor": "white"
           },
           "zaxis": {
            "backgroundcolor": "#E5ECF6",
            "gridcolor": "white",
            "gridwidth": 2,
            "linecolor": "white",
            "showbackground": true,
            "ticks": "",
            "zerolinecolor": "white"
           }
          },
          "shapedefaults": {
           "line": {
            "color": "#2a3f5f"
           }
          },
          "ternary": {
           "aaxis": {
            "gridcolor": "white",
            "linecolor": "white",
            "ticks": ""
           },
           "baxis": {
            "gridcolor": "white",
            "linecolor": "white",
            "ticks": ""
           },
           "bgcolor": "#E5ECF6",
           "caxis": {
            "gridcolor": "white",
            "linecolor": "white",
            "ticks": ""
           }
          },
          "title": {
           "x": 0.05
          },
          "xaxis": {
           "automargin": true,
           "gridcolor": "white",
           "linecolor": "white",
           "ticks": "",
           "title": {
            "standoff": 15
           },
           "zerolinecolor": "white",
           "zerolinewidth": 2
          },
          "yaxis": {
           "automargin": true,
           "gridcolor": "white",
           "linecolor": "white",
           "ticks": "",
           "title": {
            "standoff": 15
           },
           "zerolinecolor": "white",
           "zerolinewidth": 2
          }
         }
        },
        "title": {
         "text": "1st Ing vs 2nd Ing"
        }
       }
      }
     },
     "metadata": {},
     "output_type": "display_data"
    }
   ],
   "source": [
    "import plotly.graph_objs as go\n",
    "\n",
    "fig = go.Figure(data = go.Scatter(x=comp['1st_RPI'], y=comp[\"2nd_RPI\"],mode='markers',text= comp['batsman']))\n",
    "\n",
    "fig.update_traces(textposition='top center',)\n",
    "\n",
    "fig.update_layout(\n",
    "    height=500,\n",
    "    title_text='1st Ing vs 2nd Ing'\n",
    ")\n",
    "fig.show()"
   ]
  },
  {
   "attachments": {},
   "cell_type": "markdown",
   "metadata": {},
   "source": [
    "Stats Vs X opposition"
   ]
  },
  {
   "cell_type": "code",
   "execution_count": 14,
   "metadata": {},
   "outputs": [],
   "source": [
    "def ByOpposition(df, current_opposition):\n",
    "    \n",
    "    df = df[df.bowling_team == current_opposition]\n",
    "    df.reset_index(inplace = True, drop = True)\n",
    "    \n",
    "    df['isDot'] = df['batsman_runs'].apply(lambda x: 1 if x == 0 else 0)\n",
    "    df['isOne'] = df['batsman_runs'].apply(lambda x: 1 if x == 1 else 0)\n",
    "    df['isTwo'] = df['batsman_runs'].apply(lambda x: 1 if x == 2 else 0)\n",
    "    df['isThree'] = df['batsman_runs'].apply(lambda x: 1 if x == 3 else 0)\n",
    "    df['isFour'] = df['batsman_runs'].apply(lambda x: 1 if x == 4 else 0)\n",
    "    df['isSix'] = df['batsman_runs'].apply(lambda x: 1 if x == 6 else 0)\n",
    "    \n",
    "    runs = pd.DataFrame(df.groupby(['batsman', 'match_id'])['batsman_runs'].sum().reset_index()).groupby(['batsman'])['batsman_runs'].sum().reset_index().rename(columns={'batsman_runs':'runs'})\n",
    "    innings = pd.DataFrame(df.groupby(['batsman'])['match_id'].apply(lambda x: len(list(np.unique(x)))).reset_index()).rename(columns = {'match_id':'innings'})\n",
    "    balls = pd.DataFrame(df.groupby(['batsman'])['match_id'].count()).reset_index().rename(columns = {'match_id':'balls'})\n",
    "    dismissals = pd.DataFrame(df.groupby(['batsman'])['player_dismissed'].count()).reset_index().rename(columns = {'player_dismissed':'dismissals'})\n",
    "    \n",
    "    dots = pd.DataFrame(df.groupby(['batsman'])['isDot'].sum()).reset_index().rename(columns = {'isDot':'dots'})\n",
    "    ones = pd.DataFrame(df.groupby(['batsman'])['isOne'].sum()).reset_index().rename(columns = {'isOne':'ones'})\n",
    "    twos = pd.DataFrame(df.groupby(['batsman'])['isTwo'].sum()).reset_index().rename(columns = {'isTwo':'twos'})\n",
    "    threes = pd.DataFrame(df.groupby(['batsman'])['isThree'].sum()).reset_index().rename(columns = {'isThree':'threes'})\n",
    "    fours = pd.DataFrame(df.groupby(['batsman'])['isFour'].sum()).reset_index().rename(columns = {'isFour':'fours'})\n",
    "    sixes = pd.DataFrame(df.groupby(['batsman'])['isSix'].sum()).reset_index().rename(columns = {'isSix':'sixes'})\n",
    "    \n",
    "    df = pd.merge(innings, runs, on = 'batsman').merge(balls, on = 'batsman').merge(dismissals, on = 'batsman').merge(dots, on = 'batsman').merge(ones, on = 'batsman').merge(twos, on = 'batsman').merge(threes, on = 'batsman').merge(fours, on = 'batsman').merge(sixes, on = 'batsman')\n",
    "    \n",
    "    # StrikeRate\n",
    "    df['SR'] = df.apply(lambda x: 100*(x['runs']/x['balls']), axis = 1)\n",
    "\n",
    "    # runs per innings\n",
    "    df['RPI'] = df.apply(lambda x: x['runs']/x['innings'], axis = 1)\n",
    "\n",
    "    # balls per dismissals\n",
    "    df['BPD'] = df.apply(lambda x: balls_per_dismissal(x['balls'], x['dismissals']), axis = 1)\n",
    "\n",
    "    # balls per boundary\n",
    "    df['BPB'] = df.apply(lambda x: balls_per_boundary(x['balls'], (x['fours'] + x['sixes'])), axis = 1)\n",
    "    \n",
    "    return df\n"
   ]
  },
  {
   "cell_type": "code",
   "execution_count": 15,
   "metadata": {},
   "outputs": [
    {
     "data": {
      "text/html": [
       "<div>\n",
       "<style scoped>\n",
       "    .dataframe tbody tr th:only-of-type {\n",
       "        vertical-align: middle;\n",
       "    }\n",
       "\n",
       "    .dataframe tbody tr th {\n",
       "        vertical-align: top;\n",
       "    }\n",
       "\n",
       "    .dataframe thead th {\n",
       "        text-align: right;\n",
       "    }\n",
       "</style>\n",
       "<table border=\"1\" class=\"dataframe\">\n",
       "  <thead>\n",
       "    <tr style=\"text-align: right;\">\n",
       "      <th></th>\n",
       "      <th>batsman</th>\n",
       "      <th>innings</th>\n",
       "      <th>runs</th>\n",
       "      <th>balls</th>\n",
       "      <th>dismissals</th>\n",
       "      <th>dots</th>\n",
       "      <th>ones</th>\n",
       "      <th>twos</th>\n",
       "      <th>threes</th>\n",
       "      <th>fours</th>\n",
       "      <th>sixes</th>\n",
       "      <th>SR</th>\n",
       "      <th>RPI</th>\n",
       "      <th>BPD</th>\n",
       "      <th>BPB</th>\n",
       "    </tr>\n",
       "  </thead>\n",
       "  <tbody>\n",
       "    <tr>\n",
       "      <th>196</th>\n",
       "      <td>MS Dhoni</td>\n",
       "      <td>25</td>\n",
       "      <td>808</td>\n",
       "      <td>574</td>\n",
       "      <td>22</td>\n",
       "      <td>186</td>\n",
       "      <td>243</td>\n",
       "      <td>52</td>\n",
       "      <td>2</td>\n",
       "      <td>46</td>\n",
       "      <td>44</td>\n",
       "      <td>140.766551</td>\n",
       "      <td>32.320000</td>\n",
       "      <td>26.090909</td>\n",
       "      <td>6.377778</td>\n",
       "    </tr>\n",
       "    <tr>\n",
       "      <th>241</th>\n",
       "      <td>RG Sharma</td>\n",
       "      <td>25</td>\n",
       "      <td>693</td>\n",
       "      <td>518</td>\n",
       "      <td>25</td>\n",
       "      <td>191</td>\n",
       "      <td>208</td>\n",
       "      <td>26</td>\n",
       "      <td>0</td>\n",
       "      <td>62</td>\n",
       "      <td>30</td>\n",
       "      <td>133.783784</td>\n",
       "      <td>27.720000</td>\n",
       "      <td>20.720000</td>\n",
       "      <td>5.630435</td>\n",
       "    </tr>\n",
       "    <tr>\n",
       "      <th>71</th>\n",
       "      <td>DA Warner</td>\n",
       "      <td>15</td>\n",
       "      <td>670</td>\n",
       "      <td>418</td>\n",
       "      <td>17</td>\n",
       "      <td>144</td>\n",
       "      <td>141</td>\n",
       "      <td>37</td>\n",
       "      <td>1</td>\n",
       "      <td>59</td>\n",
       "      <td>36</td>\n",
       "      <td>160.287081</td>\n",
       "      <td>44.666667</td>\n",
       "      <td>24.588235</td>\n",
       "      <td>4.400000</td>\n",
       "    </tr>\n",
       "    <tr>\n",
       "      <th>272</th>\n",
       "      <td>SK Raina</td>\n",
       "      <td>27</td>\n",
       "      <td>663</td>\n",
       "      <td>535</td>\n",
       "      <td>22</td>\n",
       "      <td>211</td>\n",
       "      <td>213</td>\n",
       "      <td>24</td>\n",
       "      <td>0</td>\n",
       "      <td>60</td>\n",
       "      <td>27</td>\n",
       "      <td>123.925234</td>\n",
       "      <td>24.555556</td>\n",
       "      <td>24.318182</td>\n",
       "      <td>6.149425</td>\n",
       "    </tr>\n",
       "    <tr>\n",
       "      <th>96</th>\n",
       "      <td>G Gambhir</td>\n",
       "      <td>20</td>\n",
       "      <td>648</td>\n",
       "      <td>498</td>\n",
       "      <td>20</td>\n",
       "      <td>180</td>\n",
       "      <td>193</td>\n",
       "      <td>34</td>\n",
       "      <td>1</td>\n",
       "      <td>78</td>\n",
       "      <td>12</td>\n",
       "      <td>130.120482</td>\n",
       "      <td>32.400000</td>\n",
       "      <td>24.900000</td>\n",
       "      <td>5.533333</td>\n",
       "    </tr>\n",
       "    <tr>\n",
       "      <th>28</th>\n",
       "      <td>AM Rahane</td>\n",
       "      <td>18</td>\n",
       "      <td>590</td>\n",
       "      <td>465</td>\n",
       "      <td>16</td>\n",
       "      <td>165</td>\n",
       "      <td>195</td>\n",
       "      <td>24</td>\n",
       "      <td>1</td>\n",
       "      <td>68</td>\n",
       "      <td>12</td>\n",
       "      <td>126.881720</td>\n",
       "      <td>32.777778</td>\n",
       "      <td>29.062500</td>\n",
       "      <td>5.812500</td>\n",
       "    </tr>\n",
       "    <tr>\n",
       "      <th>37</th>\n",
       "      <td>AT Rayudu</td>\n",
       "      <td>18</td>\n",
       "      <td>583</td>\n",
       "      <td>492</td>\n",
       "      <td>16</td>\n",
       "      <td>187</td>\n",
       "      <td>211</td>\n",
       "      <td>26</td>\n",
       "      <td>0</td>\n",
       "      <td>44</td>\n",
       "      <td>24</td>\n",
       "      <td>118.495935</td>\n",
       "      <td>32.388889</td>\n",
       "      <td>30.750000</td>\n",
       "      <td>7.235294</td>\n",
       "    </tr>\n",
       "    <tr>\n",
       "      <th>48</th>\n",
       "      <td>BB McCullum</td>\n",
       "      <td>15</td>\n",
       "      <td>569</td>\n",
       "      <td>397</td>\n",
       "      <td>13</td>\n",
       "      <td>163</td>\n",
       "      <td>130</td>\n",
       "      <td>18</td>\n",
       "      <td>1</td>\n",
       "      <td>55</td>\n",
       "      <td>30</td>\n",
       "      <td>143.324937</td>\n",
       "      <td>37.933333</td>\n",
       "      <td>30.538462</td>\n",
       "      <td>4.670588</td>\n",
       "    </tr>\n",
       "    <tr>\n",
       "      <th>251</th>\n",
       "      <td>RV Uthappa</td>\n",
       "      <td>18</td>\n",
       "      <td>548</td>\n",
       "      <td>412</td>\n",
       "      <td>15</td>\n",
       "      <td>155</td>\n",
       "      <td>158</td>\n",
       "      <td>20</td>\n",
       "      <td>2</td>\n",
       "      <td>58</td>\n",
       "      <td>17</td>\n",
       "      <td>133.009709</td>\n",
       "      <td>30.444444</td>\n",
       "      <td>27.466667</td>\n",
       "      <td>5.493333</td>\n",
       "    </tr>\n",
       "    <tr>\n",
       "      <th>255</th>\n",
       "      <td>S Dhawan</td>\n",
       "      <td>18</td>\n",
       "      <td>483</td>\n",
       "      <td>400</td>\n",
       "      <td>15</td>\n",
       "      <td>157</td>\n",
       "      <td>162</td>\n",
       "      <td>14</td>\n",
       "      <td>1</td>\n",
       "      <td>53</td>\n",
       "      <td>13</td>\n",
       "      <td>120.750000</td>\n",
       "      <td>26.833333</td>\n",
       "      <td>26.666667</td>\n",
       "      <td>6.060606</td>\n",
       "    </tr>\n",
       "    <tr>\n",
       "      <th>135</th>\n",
       "      <td>KA Pollard</td>\n",
       "      <td>19</td>\n",
       "      <td>478</td>\n",
       "      <td>313</td>\n",
       "      <td>14</td>\n",
       "      <td>108</td>\n",
       "      <td>117</td>\n",
       "      <td>22</td>\n",
       "      <td>2</td>\n",
       "      <td>36</td>\n",
       "      <td>27</td>\n",
       "      <td>152.715655</td>\n",
       "      <td>25.157895</td>\n",
       "      <td>22.357143</td>\n",
       "      <td>4.968254</td>\n",
       "    </tr>\n",
       "    <tr>\n",
       "      <th>129</th>\n",
       "      <td>JP Duminy</td>\n",
       "      <td>12</td>\n",
       "      <td>436</td>\n",
       "      <td>317</td>\n",
       "      <td>8</td>\n",
       "      <td>106</td>\n",
       "      <td>129</td>\n",
       "      <td>32</td>\n",
       "      <td>0</td>\n",
       "      <td>28</td>\n",
       "      <td>21</td>\n",
       "      <td>137.539432</td>\n",
       "      <td>36.333333</td>\n",
       "      <td>39.625000</td>\n",
       "      <td>6.469388</td>\n",
       "    </tr>\n",
       "    <tr>\n",
       "      <th>138</th>\n",
       "      <td>KD Karthik</td>\n",
       "      <td>20</td>\n",
       "      <td>419</td>\n",
       "      <td>352</td>\n",
       "      <td>17</td>\n",
       "      <td>108</td>\n",
       "      <td>169</td>\n",
       "      <td>34</td>\n",
       "      <td>0</td>\n",
       "      <td>32</td>\n",
       "      <td>9</td>\n",
       "      <td>119.034091</td>\n",
       "      <td>20.950000</td>\n",
       "      <td>20.705882</td>\n",
       "      <td>8.585366</td>\n",
       "    </tr>\n",
       "    <tr>\n",
       "      <th>173</th>\n",
       "      <td>M Vijay</td>\n",
       "      <td>15</td>\n",
       "      <td>394</td>\n",
       "      <td>280</td>\n",
       "      <td>15</td>\n",
       "      <td>106</td>\n",
       "      <td>94</td>\n",
       "      <td>28</td>\n",
       "      <td>2</td>\n",
       "      <td>31</td>\n",
       "      <td>19</td>\n",
       "      <td>140.714286</td>\n",
       "      <td>26.266667</td>\n",
       "      <td>18.666667</td>\n",
       "      <td>5.600000</td>\n",
       "    </tr>\n",
       "    <tr>\n",
       "      <th>15</th>\n",
       "      <td>AC Gilchrist</td>\n",
       "      <td>11</td>\n",
       "      <td>369</td>\n",
       "      <td>259</td>\n",
       "      <td>10</td>\n",
       "      <td>115</td>\n",
       "      <td>76</td>\n",
       "      <td>10</td>\n",
       "      <td>1</td>\n",
       "      <td>36</td>\n",
       "      <td>21</td>\n",
       "      <td>142.471042</td>\n",
       "      <td>33.545455</td>\n",
       "      <td>25.900000</td>\n",
       "      <td>4.543860</td>\n",
       "    </tr>\n",
       "  </tbody>\n",
       "</table>\n",
       "</div>"
      ],
      "text/plain": [
       "          batsman  innings  runs  balls  dismissals  dots  ones  twos  threes  fours  sixes          SR        RPI        BPD       BPB\n",
       "196  MS Dhoni      25       808   574    22          186   243   52    2       46     44     140.766551  32.320000  26.090909  6.377778\n",
       "241  RG Sharma     25       693   518    25          191   208   26    0       62     30     133.783784  27.720000  20.720000  5.630435\n",
       "71   DA Warner     15       670   418    17          144   141   37    1       59     36     160.287081  44.666667  24.588235  4.400000\n",
       "272  SK Raina      27       663   535    22          211   213   24    0       60     27     123.925234  24.555556  24.318182  6.149425\n",
       "96   G Gambhir     20       648   498    20          180   193   34    1       78     12     130.120482  32.400000  24.900000  5.533333\n",
       "28   AM Rahane     18       590   465    16          165   195   24    1       68     12     126.881720  32.777778  29.062500  5.812500\n",
       "37   AT Rayudu     18       583   492    16          187   211   26    0       44     24     118.495935  32.388889  30.750000  7.235294\n",
       "48   BB McCullum   15       569   397    13          163   130   18    1       55     30     143.324937  37.933333  30.538462  4.670588\n",
       "251  RV Uthappa    18       548   412    15          155   158   20    2       58     17     133.009709  30.444444  27.466667  5.493333\n",
       "255  S Dhawan      18       483   400    15          157   162   14    1       53     13     120.750000  26.833333  26.666667  6.060606\n",
       "135  KA Pollard    19       478   313    14          108   117   22    2       36     27     152.715655  25.157895  22.357143  4.968254\n",
       "129  JP Duminy     12       436   317    8           106   129   32    0       28     21     137.539432  36.333333  39.625000  6.469388\n",
       "138  KD Karthik    20       419   352    17          108   169   34    0       32     9      119.034091  20.950000  20.705882  8.585366\n",
       "173  M Vijay       15       394   280    15          106   94    28    2       31     19     140.714286  26.266667  18.666667  5.600000\n",
       "15   AC Gilchrist  11       369   259    10          115   76    10    1       36     21     142.471042  33.545455  25.900000  4.543860"
      ]
     },
     "execution_count": 15,
     "metadata": {},
     "output_type": "execute_result"
    }
   ],
   "source": [
    "ByOpposition(deliveries, 'Royal Challengers Bangalore').sort_values(by='runs',ascending=False).head(15)\n"
   ]
  },
  {
   "attachments": {},
   "cell_type": "markdown",
   "metadata": {},
   "source": [
    "Player  vs Against All Teams"
   ]
  },
  {
   "cell_type": "code",
   "execution_count": 16,
   "metadata": {},
   "outputs": [],
   "source": [
    "player = 'V Kohli'"
   ]
  },
  {
   "cell_type": "code",
   "execution_count": 17,
   "metadata": {},
   "outputs": [
    {
     "data": {
      "text/html": [
       "<div>\n",
       "<style scoped>\n",
       "    .dataframe tbody tr th:only-of-type {\n",
       "        vertical-align: middle;\n",
       "    }\n",
       "\n",
       "    .dataframe tbody tr th {\n",
       "        vertical-align: top;\n",
       "    }\n",
       "\n",
       "    .dataframe thead th {\n",
       "        text-align: right;\n",
       "    }\n",
       "</style>\n",
       "<table border=\"1\" class=\"dataframe\">\n",
       "  <thead>\n",
       "    <tr style=\"text-align: right;\">\n",
       "      <th></th>\n",
       "      <th>match_id</th>\n",
       "      <th>inning</th>\n",
       "      <th>batting_team</th>\n",
       "      <th>bowling_team</th>\n",
       "      <th>over</th>\n",
       "      <th>ball</th>\n",
       "      <th>batsman</th>\n",
       "      <th>non_striker</th>\n",
       "      <th>bowler</th>\n",
       "      <th>is_super_over</th>\n",
       "      <th>wide_runs</th>\n",
       "      <th>bye_runs</th>\n",
       "      <th>legbye_runs</th>\n",
       "      <th>noball_runs</th>\n",
       "      <th>penalty_runs</th>\n",
       "      <th>batsman_runs</th>\n",
       "      <th>extra_runs</th>\n",
       "      <th>total_runs</th>\n",
       "      <th>player_dismissed</th>\n",
       "      <th>dismissal_kind</th>\n",
       "      <th>fielder</th>\n",
       "      <th>isDot</th>\n",
       "      <th>isOne</th>\n",
       "      <th>isTwo</th>\n",
       "      <th>isThree</th>\n",
       "      <th>isFour</th>\n",
       "      <th>isSix</th>\n",
       "      <th>phase</th>\n",
       "    </tr>\n",
       "  </thead>\n",
       "  <tbody>\n",
       "    <tr>\n",
       "      <th>0</th>\n",
       "      <td>1</td>\n",
       "      <td>1</td>\n",
       "      <td>Sunrisers Hyderabad</td>\n",
       "      <td>Royal Challengers Bangalore</td>\n",
       "      <td>1</td>\n",
       "      <td>1</td>\n",
       "      <td>DA Warner</td>\n",
       "      <td>S Dhawan</td>\n",
       "      <td>TS Mills</td>\n",
       "      <td>0</td>\n",
       "      <td>0</td>\n",
       "      <td>0</td>\n",
       "      <td>0</td>\n",
       "      <td>0</td>\n",
       "      <td>0</td>\n",
       "      <td>0</td>\n",
       "      <td>0</td>\n",
       "      <td>0</td>\n",
       "      <td>NaN</td>\n",
       "      <td>NaN</td>\n",
       "      <td>NaN</td>\n",
       "      <td>1</td>\n",
       "      <td>0</td>\n",
       "      <td>0</td>\n",
       "      <td>0</td>\n",
       "      <td>0</td>\n",
       "      <td>0</td>\n",
       "      <td>Powerplay</td>\n",
       "    </tr>\n",
       "    <tr>\n",
       "      <th>1</th>\n",
       "      <td>1</td>\n",
       "      <td>1</td>\n",
       "      <td>Sunrisers Hyderabad</td>\n",
       "      <td>Royal Challengers Bangalore</td>\n",
       "      <td>1</td>\n",
       "      <td>2</td>\n",
       "      <td>DA Warner</td>\n",
       "      <td>S Dhawan</td>\n",
       "      <td>TS Mills</td>\n",
       "      <td>0</td>\n",
       "      <td>0</td>\n",
       "      <td>0</td>\n",
       "      <td>0</td>\n",
       "      <td>0</td>\n",
       "      <td>0</td>\n",
       "      <td>0</td>\n",
       "      <td>0</td>\n",
       "      <td>0</td>\n",
       "      <td>NaN</td>\n",
       "      <td>NaN</td>\n",
       "      <td>NaN</td>\n",
       "      <td>1</td>\n",
       "      <td>0</td>\n",
       "      <td>0</td>\n",
       "      <td>0</td>\n",
       "      <td>0</td>\n",
       "      <td>0</td>\n",
       "      <td>Powerplay</td>\n",
       "    </tr>\n",
       "    <tr>\n",
       "      <th>2</th>\n",
       "      <td>1</td>\n",
       "      <td>1</td>\n",
       "      <td>Sunrisers Hyderabad</td>\n",
       "      <td>Royal Challengers Bangalore</td>\n",
       "      <td>1</td>\n",
       "      <td>3</td>\n",
       "      <td>DA Warner</td>\n",
       "      <td>S Dhawan</td>\n",
       "      <td>TS Mills</td>\n",
       "      <td>0</td>\n",
       "      <td>0</td>\n",
       "      <td>0</td>\n",
       "      <td>0</td>\n",
       "      <td>0</td>\n",
       "      <td>0</td>\n",
       "      <td>4</td>\n",
       "      <td>0</td>\n",
       "      <td>4</td>\n",
       "      <td>NaN</td>\n",
       "      <td>NaN</td>\n",
       "      <td>NaN</td>\n",
       "      <td>0</td>\n",
       "      <td>0</td>\n",
       "      <td>0</td>\n",
       "      <td>0</td>\n",
       "      <td>1</td>\n",
       "      <td>0</td>\n",
       "      <td>Powerplay</td>\n",
       "    </tr>\n",
       "    <tr>\n",
       "      <th>3</th>\n",
       "      <td>1</td>\n",
       "      <td>1</td>\n",
       "      <td>Sunrisers Hyderabad</td>\n",
       "      <td>Royal Challengers Bangalore</td>\n",
       "      <td>1</td>\n",
       "      <td>4</td>\n",
       "      <td>DA Warner</td>\n",
       "      <td>S Dhawan</td>\n",
       "      <td>TS Mills</td>\n",
       "      <td>0</td>\n",
       "      <td>0</td>\n",
       "      <td>0</td>\n",
       "      <td>0</td>\n",
       "      <td>0</td>\n",
       "      <td>0</td>\n",
       "      <td>0</td>\n",
       "      <td>0</td>\n",
       "      <td>0</td>\n",
       "      <td>NaN</td>\n",
       "      <td>NaN</td>\n",
       "      <td>NaN</td>\n",
       "      <td>1</td>\n",
       "      <td>0</td>\n",
       "      <td>0</td>\n",
       "      <td>0</td>\n",
       "      <td>0</td>\n",
       "      <td>0</td>\n",
       "      <td>Powerplay</td>\n",
       "    </tr>\n",
       "    <tr>\n",
       "      <th>4</th>\n",
       "      <td>1</td>\n",
       "      <td>1</td>\n",
       "      <td>Sunrisers Hyderabad</td>\n",
       "      <td>Royal Challengers Bangalore</td>\n",
       "      <td>1</td>\n",
       "      <td>5</td>\n",
       "      <td>DA Warner</td>\n",
       "      <td>S Dhawan</td>\n",
       "      <td>TS Mills</td>\n",
       "      <td>0</td>\n",
       "      <td>2</td>\n",
       "      <td>0</td>\n",
       "      <td>0</td>\n",
       "      <td>0</td>\n",
       "      <td>0</td>\n",
       "      <td>0</td>\n",
       "      <td>2</td>\n",
       "      <td>2</td>\n",
       "      <td>NaN</td>\n",
       "      <td>NaN</td>\n",
       "      <td>NaN</td>\n",
       "      <td>1</td>\n",
       "      <td>0</td>\n",
       "      <td>0</td>\n",
       "      <td>0</td>\n",
       "      <td>0</td>\n",
       "      <td>0</td>\n",
       "      <td>Powerplay</td>\n",
       "    </tr>\n",
       "  </tbody>\n",
       "</table>\n",
       "</div>"
      ],
      "text/plain": [
       "   match_id  inning         batting_team                 bowling_team  over  ball    batsman non_striker    bowler  is_super_over  wide_runs  bye_runs  legbye_runs  noball_runs  penalty_runs  batsman_runs  extra_runs  total_runs player_dismissed dismissal_kind fielder  isDot  isOne  isTwo  isThree  isFour  isSix      phase\n",
       "0  1         1       Sunrisers Hyderabad  Royal Challengers Bangalore  1     1     DA Warner  S Dhawan    TS Mills  0              0          0         0            0            0             0             0           0           NaN              NaN            NaN     1      0      0      0        0       0      Powerplay\n",
       "1  1         1       Sunrisers Hyderabad  Royal Challengers Bangalore  1     2     DA Warner  S Dhawan    TS Mills  0              0          0         0            0            0             0             0           0           NaN              NaN            NaN     1      0      0      0        0       0      Powerplay\n",
       "2  1         1       Sunrisers Hyderabad  Royal Challengers Bangalore  1     3     DA Warner  S Dhawan    TS Mills  0              0          0         0            0            0             4             0           4           NaN              NaN            NaN     0      0      0      0        1       0      Powerplay\n",
       "3  1         1       Sunrisers Hyderabad  Royal Challengers Bangalore  1     4     DA Warner  S Dhawan    TS Mills  0              0          0         0            0            0             0             0           0           NaN              NaN            NaN     1      0      0      0        0       0      Powerplay\n",
       "4  1         1       Sunrisers Hyderabad  Royal Challengers Bangalore  1     5     DA Warner  S Dhawan    TS Mills  0              2          0         0            0            0             0             2           2           NaN              NaN            NaN     1      0      0      0        0       0      Powerplay"
      ]
     },
     "execution_count": 17,
     "metadata": {},
     "output_type": "execute_result"
    }
   ],
   "source": [
    "deliveries.head()"
   ]
  },
  {
   "cell_type": "code",
   "execution_count": 18,
   "metadata": {},
   "outputs": [],
   "source": [
    "df1 = deliveries[deliveries.batsman == player].groupby(['bowling_team'])['batsman_runs'].sum().sort_values(ascending=False)\n",
    "# df2 = pd.DataFrame(deliveries[deliveries.batsman == player].groupby(['bowling_team'])['match_id'].count().sort_values(ascending=False))\n",
    "df2 = pd.DataFrame(deliveries[deliveries.batsman == player].groupby(['bowling_team'])['extra_runs'].count().max(level=0).sort_values(ascending=False))\n",
    "\n",
    "\n",
    "runs = pd.DataFrame(df1, columns=['batsman_runs']).reset_index()\n",
    "balls = pd.DataFrame(df2, columns=['extra_runs']).reset_index()\n",
    "\n",
    "playerstats = pd.merge(runs,balls,on = 'bowling_team')"
   ]
  },
  {
   "cell_type": "code",
   "execution_count": 19,
   "metadata": {},
   "outputs": [],
   "source": [
    "playerstats = playerstats.rename(columns={'extra_runs':'legal_balls'})"
   ]
  },
  {
   "cell_type": "code",
   "execution_count": 20,
   "metadata": {},
   "outputs": [
    {
     "data": {
      "text/html": [
       "<div>\n",
       "<style scoped>\n",
       "    .dataframe tbody tr th:only-of-type {\n",
       "        vertical-align: middle;\n",
       "    }\n",
       "\n",
       "    .dataframe tbody tr th {\n",
       "        vertical-align: top;\n",
       "    }\n",
       "\n",
       "    .dataframe thead th {\n",
       "        text-align: right;\n",
       "    }\n",
       "</style>\n",
       "<table border=\"1\" class=\"dataframe\">\n",
       "  <thead>\n",
       "    <tr style=\"text-align: right;\">\n",
       "      <th></th>\n",
       "      <th>bowling_team</th>\n",
       "      <th>batsman_runs</th>\n",
       "      <th>legal_balls</th>\n",
       "    </tr>\n",
       "  </thead>\n",
       "  <tbody>\n",
       "    <tr>\n",
       "      <th>0</th>\n",
       "      <td>Delhi Daredevils</td>\n",
       "      <td>763</td>\n",
       "      <td>553</td>\n",
       "    </tr>\n",
       "    <tr>\n",
       "      <th>1</th>\n",
       "      <td>Chennai Super Kings</td>\n",
       "      <td>749</td>\n",
       "      <td>616</td>\n",
       "    </tr>\n",
       "    <tr>\n",
       "      <th>2</th>\n",
       "      <td>Kolkata Knight Riders</td>\n",
       "      <td>675</td>\n",
       "      <td>515</td>\n",
       "    </tr>\n",
       "    <tr>\n",
       "      <th>3</th>\n",
       "      <td>Kings XI Punjab</td>\n",
       "      <td>636</td>\n",
       "      <td>495</td>\n",
       "    </tr>\n",
       "    <tr>\n",
       "      <th>4</th>\n",
       "      <td>Mumbai Indians</td>\n",
       "      <td>628</td>\n",
       "      <td>497</td>\n",
       "    </tr>\n",
       "  </tbody>\n",
       "</table>\n",
       "</div>"
      ],
      "text/plain": [
       "            bowling_team  batsman_runs  legal_balls\n",
       "0  Delhi Daredevils       763           553        \n",
       "1  Chennai Super Kings    749           616        \n",
       "2  Kolkata Knight Riders  675           515        \n",
       "3  Kings XI Punjab        636           495        \n",
       "4  Mumbai Indians         628           497        "
      ]
     },
     "execution_count": 20,
     "metadata": {},
     "output_type": "execute_result"
    }
   ],
   "source": [
    "playerstats.head()"
   ]
  },
  {
   "cell_type": "code",
   "execution_count": 21,
   "metadata": {},
   "outputs": [],
   "source": [
    "playerstats['strike_rate'] = np.round(100 * playerstats['batsman_runs']/playerstats['legal_balls'],2)\n"
   ]
  },
  {
   "cell_type": "code",
   "execution_count": 22,
   "metadata": {},
   "outputs": [
    {
     "data": {
      "text/html": [
       "<div>\n",
       "<style scoped>\n",
       "    .dataframe tbody tr th:only-of-type {\n",
       "        vertical-align: middle;\n",
       "    }\n",
       "\n",
       "    .dataframe tbody tr th {\n",
       "        vertical-align: top;\n",
       "    }\n",
       "\n",
       "    .dataframe thead th {\n",
       "        text-align: right;\n",
       "    }\n",
       "</style>\n",
       "<table border=\"1\" class=\"dataframe\">\n",
       "  <thead>\n",
       "    <tr style=\"text-align: right;\">\n",
       "      <th></th>\n",
       "      <th>bowling_team</th>\n",
       "      <th>batsman_runs</th>\n",
       "      <th>legal_balls</th>\n",
       "      <th>strike_rate</th>\n",
       "    </tr>\n",
       "  </thead>\n",
       "  <tbody>\n",
       "    <tr>\n",
       "      <th>0</th>\n",
       "      <td>Delhi Daredevils</td>\n",
       "      <td>763</td>\n",
       "      <td>553</td>\n",
       "      <td>137.97</td>\n",
       "    </tr>\n",
       "    <tr>\n",
       "      <th>1</th>\n",
       "      <td>Chennai Super Kings</td>\n",
       "      <td>749</td>\n",
       "      <td>616</td>\n",
       "      <td>121.59</td>\n",
       "    </tr>\n",
       "    <tr>\n",
       "      <th>2</th>\n",
       "      <td>Kolkata Knight Riders</td>\n",
       "      <td>675</td>\n",
       "      <td>515</td>\n",
       "      <td>131.07</td>\n",
       "    </tr>\n",
       "    <tr>\n",
       "      <th>3</th>\n",
       "      <td>Kings XI Punjab</td>\n",
       "      <td>636</td>\n",
       "      <td>495</td>\n",
       "      <td>128.48</td>\n",
       "    </tr>\n",
       "    <tr>\n",
       "      <th>4</th>\n",
       "      <td>Mumbai Indians</td>\n",
       "      <td>628</td>\n",
       "      <td>497</td>\n",
       "      <td>126.36</td>\n",
       "    </tr>\n",
       "    <tr>\n",
       "      <th>5</th>\n",
       "      <td>Sunrisers Hyderabad</td>\n",
       "      <td>509</td>\n",
       "      <td>370</td>\n",
       "      <td>137.57</td>\n",
       "    </tr>\n",
       "    <tr>\n",
       "      <th>6</th>\n",
       "      <td>Rajasthan Royals</td>\n",
       "      <td>370</td>\n",
       "      <td>351</td>\n",
       "      <td>105.41</td>\n",
       "    </tr>\n",
       "    <tr>\n",
       "      <th>7</th>\n",
       "      <td>Deccan Chargers</td>\n",
       "      <td>306</td>\n",
       "      <td>230</td>\n",
       "      <td>133.04</td>\n",
       "    </tr>\n",
       "    <tr>\n",
       "      <th>8</th>\n",
       "      <td>Gujarat Lions</td>\n",
       "      <td>283</td>\n",
       "      <td>186</td>\n",
       "      <td>152.15</td>\n",
       "    </tr>\n",
       "    <tr>\n",
       "      <th>9</th>\n",
       "      <td>Rising Pune Supergiants</td>\n",
       "      <td>188</td>\n",
       "      <td>128</td>\n",
       "      <td>146.88</td>\n",
       "    </tr>\n",
       "    <tr>\n",
       "      <th>10</th>\n",
       "      <td>Pune Warriors</td>\n",
       "      <td>128</td>\n",
       "      <td>101</td>\n",
       "      <td>126.73</td>\n",
       "    </tr>\n",
       "    <tr>\n",
       "      <th>11</th>\n",
       "      <td>Rising Pune Supergiant</td>\n",
       "      <td>83</td>\n",
       "      <td>67</td>\n",
       "      <td>123.88</td>\n",
       "    </tr>\n",
       "    <tr>\n",
       "      <th>12</th>\n",
       "      <td>Delhi Capitals</td>\n",
       "      <td>66</td>\n",
       "      <td>50</td>\n",
       "      <td>132.00</td>\n",
       "    </tr>\n",
       "    <tr>\n",
       "      <th>13</th>\n",
       "      <td>Kochi Tuskers Kerala</td>\n",
       "      <td>50</td>\n",
       "      <td>52</td>\n",
       "      <td>96.15</td>\n",
       "    </tr>\n",
       "  </tbody>\n",
       "</table>\n",
       "</div>"
      ],
      "text/plain": [
       "               bowling_team  batsman_runs  legal_balls  strike_rate\n",
       "0   Delhi Daredevils         763           553          137.97     \n",
       "1   Chennai Super Kings      749           616          121.59     \n",
       "2   Kolkata Knight Riders    675           515          131.07     \n",
       "3   Kings XI Punjab          636           495          128.48     \n",
       "4   Mumbai Indians           628           497          126.36     \n",
       "5   Sunrisers Hyderabad      509           370          137.57     \n",
       "6   Rajasthan Royals         370           351          105.41     \n",
       "7   Deccan Chargers          306           230          133.04     \n",
       "8   Gujarat Lions            283           186          152.15     \n",
       "9   Rising Pune Supergiants  188           128          146.88     \n",
       "10  Pune Warriors            128           101          126.73     \n",
       "11  Rising Pune Supergiant   83            67           123.88     \n",
       "12  Delhi Capitals           66            50           132.00     \n",
       "13  Kochi Tuskers Kerala     50            52           96.15      "
      ]
     },
     "execution_count": 22,
     "metadata": {},
     "output_type": "execute_result"
    }
   ],
   "source": [
    "playerstats"
   ]
  },
  {
   "cell_type": "code",
   "execution_count": 23,
   "metadata": {},
   "outputs": [
    {
     "data": {
      "application/vnd.plotly.v1+json": {
       "config": {
        "plotlyServerURL": "https://plot.ly"
       },
       "data": [
        {
         "alignmentgroup": "True",
         "customdata": [
          [
           137.97,
           553
          ],
          [
           121.59,
           616
          ],
          [
           131.07,
           515
          ],
          [
           128.48,
           495
          ],
          [
           126.36,
           497
          ],
          [
           137.57,
           370
          ],
          [
           105.41,
           351
          ],
          [
           133.04,
           230
          ],
          [
           152.15,
           186
          ],
          [
           146.88,
           128
          ],
          [
           126.73,
           101
          ],
          [
           123.88,
           67
          ],
          [
           132,
           50
          ],
          [
           96.15,
           52
          ]
         ],
         "hovertemplate": "batsman_runs=%{text}<br>bowling_team=%{y}<br>strike_rate=%{customdata[0]}<br>legal_balls=%{customdata[1]}<extra></extra>",
         "legendgroup": "",
         "marker": {
          "color": "#636efa",
          "pattern": {
           "shape": ""
          }
         },
         "name": "",
         "offsetgroup": "",
         "orientation": "h",
         "showlegend": false,
         "text": [
          763,
          749,
          675,
          636,
          628,
          509,
          370,
          306,
          283,
          188,
          128,
          83,
          66,
          50
         ],
         "textposition": "auto",
         "type": "bar",
         "x": [
          763,
          749,
          675,
          636,
          628,
          509,
          370,
          306,
          283,
          188,
          128,
          83,
          66,
          50
         ],
         "xaxis": "x",
         "y": [
          "Delhi Daredevils",
          "Chennai Super Kings",
          "Kolkata Knight Riders",
          "Kings XI Punjab",
          "Mumbai Indians",
          "Sunrisers Hyderabad",
          "Rajasthan Royals",
          "Deccan Chargers",
          "Gujarat Lions",
          "Rising Pune Supergiants",
          "Pune Warriors",
          "Rising Pune Supergiant",
          "Delhi Capitals",
          "Kochi Tuskers Kerala"
         ],
         "yaxis": "y"
        }
       ],
       "layout": {
        "barmode": "relative",
        "height": 550,
        "legend": {
         "tracegroupgap": 0
        },
        "template": {
         "data": {
          "bar": [
           {
            "error_x": {
             "color": "#2a3f5f"
            },
            "error_y": {
             "color": "#2a3f5f"
            },
            "marker": {
             "line": {
              "color": "#E5ECF6",
              "width": 0.5
             },
             "pattern": {
              "fillmode": "overlay",
              "size": 10,
              "solidity": 0.2
             }
            },
            "type": "bar"
           }
          ],
          "barpolar": [
           {
            "marker": {
             "line": {
              "color": "#E5ECF6",
              "width": 0.5
             },
             "pattern": {
              "fillmode": "overlay",
              "size": 10,
              "solidity": 0.2
             }
            },
            "type": "barpolar"
           }
          ],
          "carpet": [
           {
            "aaxis": {
             "endlinecolor": "#2a3f5f",
             "gridcolor": "white",
             "linecolor": "white",
             "minorgridcolor": "white",
             "startlinecolor": "#2a3f5f"
            },
            "baxis": {
             "endlinecolor": "#2a3f5f",
             "gridcolor": "white",
             "linecolor": "white",
             "minorgridcolor": "white",
             "startlinecolor": "#2a3f5f"
            },
            "type": "carpet"
           }
          ],
          "choropleth": [
           {
            "colorbar": {
             "outlinewidth": 0,
             "ticks": ""
            },
            "type": "choropleth"
           }
          ],
          "contour": [
           {
            "colorbar": {
             "outlinewidth": 0,
             "ticks": ""
            },
            "colorscale": [
             [
              0,
              "#0d0887"
             ],
             [
              0.1111111111111111,
              "#46039f"
             ],
             [
              0.2222222222222222,
              "#7201a8"
             ],
             [
              0.3333333333333333,
              "#9c179e"
             ],
             [
              0.4444444444444444,
              "#bd3786"
             ],
             [
              0.5555555555555556,
              "#d8576b"
             ],
             [
              0.6666666666666666,
              "#ed7953"
             ],
             [
              0.7777777777777778,
              "#fb9f3a"
             ],
             [
              0.8888888888888888,
              "#fdca26"
             ],
             [
              1,
              "#f0f921"
             ]
            ],
            "type": "contour"
           }
          ],
          "contourcarpet": [
           {
            "colorbar": {
             "outlinewidth": 0,
             "ticks": ""
            },
            "type": "contourcarpet"
           }
          ],
          "heatmap": [
           {
            "colorbar": {
             "outlinewidth": 0,
             "ticks": ""
            },
            "colorscale": [
             [
              0,
              "#0d0887"
             ],
             [
              0.1111111111111111,
              "#46039f"
             ],
             [
              0.2222222222222222,
              "#7201a8"
             ],
             [
              0.3333333333333333,
              "#9c179e"
             ],
             [
              0.4444444444444444,
              "#bd3786"
             ],
             [
              0.5555555555555556,
              "#d8576b"
             ],
             [
              0.6666666666666666,
              "#ed7953"
             ],
             [
              0.7777777777777778,
              "#fb9f3a"
             ],
             [
              0.8888888888888888,
              "#fdca26"
             ],
             [
              1,
              "#f0f921"
             ]
            ],
            "type": "heatmap"
           }
          ],
          "heatmapgl": [
           {
            "colorbar": {
             "outlinewidth": 0,
             "ticks": ""
            },
            "colorscale": [
             [
              0,
              "#0d0887"
             ],
             [
              0.1111111111111111,
              "#46039f"
             ],
             [
              0.2222222222222222,
              "#7201a8"
             ],
             [
              0.3333333333333333,
              "#9c179e"
             ],
             [
              0.4444444444444444,
              "#bd3786"
             ],
             [
              0.5555555555555556,
              "#d8576b"
             ],
             [
              0.6666666666666666,
              "#ed7953"
             ],
             [
              0.7777777777777778,
              "#fb9f3a"
             ],
             [
              0.8888888888888888,
              "#fdca26"
             ],
             [
              1,
              "#f0f921"
             ]
            ],
            "type": "heatmapgl"
           }
          ],
          "histogram": [
           {
            "marker": {
             "pattern": {
              "fillmode": "overlay",
              "size": 10,
              "solidity": 0.2
             }
            },
            "type": "histogram"
           }
          ],
          "histogram2d": [
           {
            "colorbar": {
             "outlinewidth": 0,
             "ticks": ""
            },
            "colorscale": [
             [
              0,
              "#0d0887"
             ],
             [
              0.1111111111111111,
              "#46039f"
             ],
             [
              0.2222222222222222,
              "#7201a8"
             ],
             [
              0.3333333333333333,
              "#9c179e"
             ],
             [
              0.4444444444444444,
              "#bd3786"
             ],
             [
              0.5555555555555556,
              "#d8576b"
             ],
             [
              0.6666666666666666,
              "#ed7953"
             ],
             [
              0.7777777777777778,
              "#fb9f3a"
             ],
             [
              0.8888888888888888,
              "#fdca26"
             ],
             [
              1,
              "#f0f921"
             ]
            ],
            "type": "histogram2d"
           }
          ],
          "histogram2dcontour": [
           {
            "colorbar": {
             "outlinewidth": 0,
             "ticks": ""
            },
            "colorscale": [
             [
              0,
              "#0d0887"
             ],
             [
              0.1111111111111111,
              "#46039f"
             ],
             [
              0.2222222222222222,
              "#7201a8"
             ],
             [
              0.3333333333333333,
              "#9c179e"
             ],
             [
              0.4444444444444444,
              "#bd3786"
             ],
             [
              0.5555555555555556,
              "#d8576b"
             ],
             [
              0.6666666666666666,
              "#ed7953"
             ],
             [
              0.7777777777777778,
              "#fb9f3a"
             ],
             [
              0.8888888888888888,
              "#fdca26"
             ],
             [
              1,
              "#f0f921"
             ]
            ],
            "type": "histogram2dcontour"
           }
          ],
          "mesh3d": [
           {
            "colorbar": {
             "outlinewidth": 0,
             "ticks": ""
            },
            "type": "mesh3d"
           }
          ],
          "parcoords": [
           {
            "line": {
             "colorbar": {
              "outlinewidth": 0,
              "ticks": ""
             }
            },
            "type": "parcoords"
           }
          ],
          "pie": [
           {
            "automargin": true,
            "type": "pie"
           }
          ],
          "scatter": [
           {
            "fillpattern": {
             "fillmode": "overlay",
             "size": 10,
             "solidity": 0.2
            },
            "type": "scatter"
           }
          ],
          "scatter3d": [
           {
            "line": {
             "colorbar": {
              "outlinewidth": 0,
              "ticks": ""
             }
            },
            "marker": {
             "colorbar": {
              "outlinewidth": 0,
              "ticks": ""
             }
            },
            "type": "scatter3d"
           }
          ],
          "scattercarpet": [
           {
            "marker": {
             "colorbar": {
              "outlinewidth": 0,
              "ticks": ""
             }
            },
            "type": "scattercarpet"
           }
          ],
          "scattergeo": [
           {
            "marker": {
             "colorbar": {
              "outlinewidth": 0,
              "ticks": ""
             }
            },
            "type": "scattergeo"
           }
          ],
          "scattergl": [
           {
            "marker": {
             "colorbar": {
              "outlinewidth": 0,
              "ticks": ""
             }
            },
            "type": "scattergl"
           }
          ],
          "scattermapbox": [
           {
            "marker": {
             "colorbar": {
              "outlinewidth": 0,
              "ticks": ""
             }
            },
            "type": "scattermapbox"
           }
          ],
          "scatterpolar": [
           {
            "marker": {
             "colorbar": {
              "outlinewidth": 0,
              "ticks": ""
             }
            },
            "type": "scatterpolar"
           }
          ],
          "scatterpolargl": [
           {
            "marker": {
             "colorbar": {
              "outlinewidth": 0,
              "ticks": ""
             }
            },
            "type": "scatterpolargl"
           }
          ],
          "scatterternary": [
           {
            "marker": {
             "colorbar": {
              "outlinewidth": 0,
              "ticks": ""
             }
            },
            "type": "scatterternary"
           }
          ],
          "surface": [
           {
            "colorbar": {
             "outlinewidth": 0,
             "ticks": ""
            },
            "colorscale": [
             [
              0,
              "#0d0887"
             ],
             [
              0.1111111111111111,
              "#46039f"
             ],
             [
              0.2222222222222222,
              "#7201a8"
             ],
             [
              0.3333333333333333,
              "#9c179e"
             ],
             [
              0.4444444444444444,
              "#bd3786"
             ],
             [
              0.5555555555555556,
              "#d8576b"
             ],
             [
              0.6666666666666666,
              "#ed7953"
             ],
             [
              0.7777777777777778,
              "#fb9f3a"
             ],
             [
              0.8888888888888888,
              "#fdca26"
             ],
             [
              1,
              "#f0f921"
             ]
            ],
            "type": "surface"
           }
          ],
          "table": [
           {
            "cells": {
             "fill": {
              "color": "#EBF0F8"
             },
             "line": {
              "color": "white"
             }
            },
            "header": {
             "fill": {
              "color": "#C8D4E3"
             },
             "line": {
              "color": "white"
             }
            },
            "type": "table"
           }
          ]
         },
         "layout": {
          "annotationdefaults": {
           "arrowcolor": "#2a3f5f",
           "arrowhead": 0,
           "arrowwidth": 1
          },
          "autotypenumbers": "strict",
          "coloraxis": {
           "colorbar": {
            "outlinewidth": 0,
            "ticks": ""
           }
          },
          "colorscale": {
           "diverging": [
            [
             0,
             "#8e0152"
            ],
            [
             0.1,
             "#c51b7d"
            ],
            [
             0.2,
             "#de77ae"
            ],
            [
             0.3,
             "#f1b6da"
            ],
            [
             0.4,
             "#fde0ef"
            ],
            [
             0.5,
             "#f7f7f7"
            ],
            [
             0.6,
             "#e6f5d0"
            ],
            [
             0.7,
             "#b8e186"
            ],
            [
             0.8,
             "#7fbc41"
            ],
            [
             0.9,
             "#4d9221"
            ],
            [
             1,
             "#276419"
            ]
           ],
           "sequential": [
            [
             0,
             "#0d0887"
            ],
            [
             0.1111111111111111,
             "#46039f"
            ],
            [
             0.2222222222222222,
             "#7201a8"
            ],
            [
             0.3333333333333333,
             "#9c179e"
            ],
            [
             0.4444444444444444,
             "#bd3786"
            ],
            [
             0.5555555555555556,
             "#d8576b"
            ],
            [
             0.6666666666666666,
             "#ed7953"
            ],
            [
             0.7777777777777778,
             "#fb9f3a"
            ],
            [
             0.8888888888888888,
             "#fdca26"
            ],
            [
             1,
             "#f0f921"
            ]
           ],
           "sequentialminus": [
            [
             0,
             "#0d0887"
            ],
            [
             0.1111111111111111,
             "#46039f"
            ],
            [
             0.2222222222222222,
             "#7201a8"
            ],
            [
             0.3333333333333333,
             "#9c179e"
            ],
            [
             0.4444444444444444,
             "#bd3786"
            ],
            [
             0.5555555555555556,
             "#d8576b"
            ],
            [
             0.6666666666666666,
             "#ed7953"
            ],
            [
             0.7777777777777778,
             "#fb9f3a"
            ],
            [
             0.8888888888888888,
             "#fdca26"
            ],
            [
             1,
             "#f0f921"
            ]
           ]
          },
          "colorway": [
           "#636efa",
           "#EF553B",
           "#00cc96",
           "#ab63fa",
           "#FFA15A",
           "#19d3f3",
           "#FF6692",
           "#B6E880",
           "#FF97FF",
           "#FECB52"
          ],
          "font": {
           "color": "#2a3f5f"
          },
          "geo": {
           "bgcolor": "white",
           "lakecolor": "white",
           "landcolor": "#E5ECF6",
           "showlakes": true,
           "showland": true,
           "subunitcolor": "white"
          },
          "hoverlabel": {
           "align": "left"
          },
          "hovermode": "closest",
          "mapbox": {
           "style": "light"
          },
          "paper_bgcolor": "white",
          "plot_bgcolor": "#E5ECF6",
          "polar": {
           "angularaxis": {
            "gridcolor": "white",
            "linecolor": "white",
            "ticks": ""
           },
           "bgcolor": "#E5ECF6",
           "radialaxis": {
            "gridcolor": "white",
            "linecolor": "white",
            "ticks": ""
           }
          },
          "scene": {
           "xaxis": {
            "backgroundcolor": "#E5ECF6",
            "gridcolor": "white",
            "gridwidth": 2,
            "linecolor": "white",
            "showbackground": true,
            "ticks": "",
            "zerolinecolor": "white"
           },
           "yaxis": {
            "backgroundcolor": "#E5ECF6",
            "gridcolor": "white",
            "gridwidth": 2,
            "linecolor": "white",
            "showbackground": true,
            "ticks": "",
            "zerolinecolor": "white"
           },
           "zaxis": {
            "backgroundcolor": "#E5ECF6",
            "gridcolor": "white",
            "gridwidth": 2,
            "linecolor": "white",
            "showbackground": true,
            "ticks": "",
            "zerolinecolor": "white"
           }
          },
          "shapedefaults": {
           "line": {
            "color": "#2a3f5f"
           }
          },
          "ternary": {
           "aaxis": {
            "gridcolor": "white",
            "linecolor": "white",
            "ticks": ""
           },
           "baxis": {
            "gridcolor": "white",
            "linecolor": "white",
            "ticks": ""
           },
           "bgcolor": "#E5ECF6",
           "caxis": {
            "gridcolor": "white",
            "linecolor": "white",
            "ticks": ""
           }
          },
          "title": {
           "x": 0.05
          },
          "xaxis": {
           "automargin": true,
           "gridcolor": "white",
           "linecolor": "white",
           "ticks": "",
           "title": {
            "standoff": 15
           },
           "zerolinecolor": "white",
           "zerolinewidth": 2
          },
          "yaxis": {
           "automargin": true,
           "gridcolor": "white",
           "linecolor": "white",
           "ticks": "",
           "title": {
            "standoff": 15
           },
           "zerolinecolor": "white",
           "zerolinewidth": 2
          }
         }
        },
        "title": {
         "text": "V Kohli vs All Teams"
        },
        "width": 900,
        "xaxis": {
         "anchor": "y",
         "domain": [
          0,
          1
         ],
         "title": {
          "text": "V Kohli runs"
         }
        },
        "yaxis": {
         "anchor": "x",
         "domain": [
          0,
          1
         ],
         "title": {
          "text": "Opponents"
         }
        }
       }
      }
     },
     "metadata": {},
     "output_type": "display_data"
    }
   ],
   "source": [
    "import plotly.express as px\n",
    "df = px.data.tips()\n",
    "fig = px.bar(playerstats, x=\"batsman_runs\", y=\"bowling_team\",hover_data=['strike_rate','legal_balls'],text = 'batsman_runs',orientation='h',height=400,title= player + ' vs All Teams')\n",
    "fig.update_layout( xaxis_title = f'{player} runs', yaxis_title = 'Opponents',width = 900, height = 550 )\n",
    "fig.show()"
   ]
  },
  {
   "attachments": {},
   "cell_type": "markdown",
   "metadata": {},
   "source": [
    "WIN TOSS AND MATCH"
   ]
  },
  {
   "cell_type": "code",
   "execution_count": 24,
   "metadata": {},
   "outputs": [],
   "source": [
    "# def wintoss_winmatch(toss_decision, team1, team2, winner):\n",
    "#     if toss_decision == 'field':\n",
    "#         if team2 == winner:\n",
    "#             return True\n",
    "#         else:\n",
    "#             return False\n",
    "        \n",
    "#     else:\n",
    "#         if team1 == winner:\n",
    "#             return True\n",
    "#         else:\n",
    "#             return False\n",
    "def wintoss_winmatch(toss_winner,winner):\n",
    "    if toss_winner == winner:\n",
    "        return True\n",
    "    else:\n",
    "        return False\n"
   ]
  },
  {
   "cell_type": "code",
   "execution_count": 25,
   "metadata": {},
   "outputs": [],
   "source": [
    "matches['wintoss_winmatch'] = matches.apply(lambda x: wintoss_winmatch(x['toss_winner'], x['winner']), axis = 1)"
   ]
  },
  {
   "cell_type": "code",
   "execution_count": 26,
   "metadata": {},
   "outputs": [
    {
     "data": {
      "text/html": [
       "<div>\n",
       "<style scoped>\n",
       "    .dataframe tbody tr th:only-of-type {\n",
       "        vertical-align: middle;\n",
       "    }\n",
       "\n",
       "    .dataframe tbody tr th {\n",
       "        vertical-align: top;\n",
       "    }\n",
       "\n",
       "    .dataframe thead th {\n",
       "        text-align: right;\n",
       "    }\n",
       "</style>\n",
       "<table border=\"1\" class=\"dataframe\">\n",
       "  <thead>\n",
       "    <tr style=\"text-align: right;\">\n",
       "      <th></th>\n",
       "      <th>id</th>\n",
       "      <th>season</th>\n",
       "      <th>team1</th>\n",
       "      <th>team2</th>\n",
       "      <th>wintoss_winmatch</th>\n",
       "    </tr>\n",
       "  </thead>\n",
       "  <tbody>\n",
       "    <tr>\n",
       "      <th>0</th>\n",
       "      <td>1</td>\n",
       "      <td>2017</td>\n",
       "      <td>Sunrisers Hyderabad</td>\n",
       "      <td>Royal Challengers Bangalore</td>\n",
       "      <td>False</td>\n",
       "    </tr>\n",
       "    <tr>\n",
       "      <th>1</th>\n",
       "      <td>2</td>\n",
       "      <td>2017</td>\n",
       "      <td>Mumbai Indians</td>\n",
       "      <td>Rising Pune Supergiant</td>\n",
       "      <td>True</td>\n",
       "    </tr>\n",
       "    <tr>\n",
       "      <th>2</th>\n",
       "      <td>3</td>\n",
       "      <td>2017</td>\n",
       "      <td>Gujarat Lions</td>\n",
       "      <td>Kolkata Knight Riders</td>\n",
       "      <td>True</td>\n",
       "    </tr>\n",
       "    <tr>\n",
       "      <th>3</th>\n",
       "      <td>4</td>\n",
       "      <td>2017</td>\n",
       "      <td>Rising Pune Supergiant</td>\n",
       "      <td>Kings XI Punjab</td>\n",
       "      <td>True</td>\n",
       "    </tr>\n",
       "    <tr>\n",
       "      <th>4</th>\n",
       "      <td>5</td>\n",
       "      <td>2017</td>\n",
       "      <td>Royal Challengers Bangalore</td>\n",
       "      <td>Delhi Daredevils</td>\n",
       "      <td>True</td>\n",
       "    </tr>\n",
       "    <tr>\n",
       "      <th>5</th>\n",
       "      <td>6</td>\n",
       "      <td>2017</td>\n",
       "      <td>Gujarat Lions</td>\n",
       "      <td>Sunrisers Hyderabad</td>\n",
       "      <td>True</td>\n",
       "    </tr>\n",
       "    <tr>\n",
       "      <th>6</th>\n",
       "      <td>7</td>\n",
       "      <td>2017</td>\n",
       "      <td>Kolkata Knight Riders</td>\n",
       "      <td>Mumbai Indians</td>\n",
       "      <td>True</td>\n",
       "    </tr>\n",
       "    <tr>\n",
       "      <th>7</th>\n",
       "      <td>8</td>\n",
       "      <td>2017</td>\n",
       "      <td>Royal Challengers Bangalore</td>\n",
       "      <td>Kings XI Punjab</td>\n",
       "      <td>False</td>\n",
       "    </tr>\n",
       "    <tr>\n",
       "      <th>8</th>\n",
       "      <td>9</td>\n",
       "      <td>2017</td>\n",
       "      <td>Delhi Daredevils</td>\n",
       "      <td>Rising Pune Supergiant</td>\n",
       "      <td>False</td>\n",
       "    </tr>\n",
       "    <tr>\n",
       "      <th>9</th>\n",
       "      <td>10</td>\n",
       "      <td>2017</td>\n",
       "      <td>Sunrisers Hyderabad</td>\n",
       "      <td>Mumbai Indians</td>\n",
       "      <td>True</td>\n",
       "    </tr>\n",
       "  </tbody>\n",
       "</table>\n",
       "</div>"
      ],
      "text/plain": [
       "   id  season                        team1                        team2  wintoss_winmatch\n",
       "0  1   2017    Sunrisers Hyderabad          Royal Challengers Bangalore  False           \n",
       "1  2   2017    Mumbai Indians               Rising Pune Supergiant       True            \n",
       "2  3   2017    Gujarat Lions                Kolkata Knight Riders        True            \n",
       "3  4   2017    Rising Pune Supergiant       Kings XI Punjab              True            \n",
       "4  5   2017    Royal Challengers Bangalore  Delhi Daredevils             True            \n",
       "5  6   2017    Gujarat Lions                Sunrisers Hyderabad          True            \n",
       "6  7   2017    Kolkata Knight Riders        Mumbai Indians               True            \n",
       "7  8   2017    Royal Challengers Bangalore  Kings XI Punjab              False           \n",
       "8  9   2017    Delhi Daredevils             Rising Pune Supergiant       False           \n",
       "9  10  2017    Sunrisers Hyderabad          Mumbai Indians               True            "
      ]
     },
     "execution_count": 26,
     "metadata": {},
     "output_type": "execute_result"
    }
   ],
   "source": [
    "matches[['id', 'season', 'team1', 'team2', 'wintoss_winmatch']].head(10)"
   ]
  },
  {
   "cell_type": "code",
   "execution_count": 27,
   "metadata": {},
   "outputs": [
    {
     "name": "stdout",
     "output_type": "stream",
     "text": [
      "% of wintoss-winmatch = 51.100628930817614\n"
     ]
    }
   ],
   "source": [
    "print('% of wintoss-winmatch =', 100*len(matches[matches.wintoss_winmatch == True])/len(matches))\n"
   ]
  },
  {
   "attachments": {},
   "cell_type": "markdown",
   "metadata": {},
   "source": [
    "By venue"
   ]
  },
  {
   "cell_type": "code",
   "execution_count": 28,
   "metadata": {},
   "outputs": [],
   "source": [
    "def isOut(player_dismissed):\n",
    "    try:\n",
    "        x = math.isnan(player_dismissed)\n",
    "        return 0\n",
    "    except:\n",
    "        return 1\n",
    "\n",
    "def venueAnalysis(mdf, df):\n",
    "    \n",
    "    runs = pd.DataFrame(df.groupby(['match_id', 'inning'])['total_runs'].sum().reset_index())\n",
    "    runs['Id_Ing'] = runs.apply(lambda x: str(x['match_id']) + '-' + str(x['inning']), axis = 1)\n",
    "    \n",
    "    balls = pd.DataFrame(df.groupby(['match_id', 'inning'])['total_runs'].count().reset_index()).rename(columns = {'total_runs':'total_balls'})\n",
    "    balls['Id_Ing'] = balls.apply(lambda x: str(x['match_id']) + '-' + str(x['inning']), axis = 1)\n",
    "    \n",
    "    df['isOut'] = df['player_dismissed'].apply(lambda x: isOut(x))\n",
    "    outs = pd.DataFrame(df.groupby(['match_id', 'inning'])['isOut'].sum().reset_index()).rename(columns = {'isOut':'wickets'})\n",
    "    outs['Id_Ing'] = outs.apply(lambda x: str(x['match_id']) + '-' + str(x['inning']), axis = 1)\n",
    "    \n",
    "    df = pd.merge(runs, balls[['Id_Ing', 'total_balls']], on = 'Id_Ing').merge(outs[['Id_Ing', 'wickets']], on = 'Id_Ing')\n",
    "    \n",
    "    mdf = mdf.rename(columns = {'id':'match_id'})\n",
    "    df = pd.merge(df, mdf[['match_id', 'venue']], on = 'match_id')\n",
    "    df = df[['match_id', 'venue', 'inning', 'total_runs', 'total_balls', 'wickets']]\n",
    "    \n",
    "    return df"
   ]
  },
  {
   "cell_type": "code",
   "execution_count": 29,
   "metadata": {},
   "outputs": [],
   "source": [
    "ven_df = venueAnalysis(matches, deliveries)"
   ]
  },
  {
   "cell_type": "code",
   "execution_count": 30,
   "metadata": {},
   "outputs": [
    {
     "data": {
      "text/html": [
       "<div>\n",
       "<style scoped>\n",
       "    .dataframe tbody tr th:only-of-type {\n",
       "        vertical-align: middle;\n",
       "    }\n",
       "\n",
       "    .dataframe tbody tr th {\n",
       "        vertical-align: top;\n",
       "    }\n",
       "\n",
       "    .dataframe thead th {\n",
       "        text-align: right;\n",
       "    }\n",
       "</style>\n",
       "<table border=\"1\" class=\"dataframe\">\n",
       "  <thead>\n",
       "    <tr style=\"text-align: right;\">\n",
       "      <th></th>\n",
       "      <th>venue</th>\n",
       "      <th>Avg_Runs</th>\n",
       "    </tr>\n",
       "  </thead>\n",
       "  <tbody>\n",
       "    <tr>\n",
       "      <th>0</th>\n",
       "      <td>Brabourne Stadium</td>\n",
       "      <td>174.636364</td>\n",
       "    </tr>\n",
       "    <tr>\n",
       "      <th>1</th>\n",
       "      <td>Barabati Stadium</td>\n",
       "      <td>162.714286</td>\n",
       "    </tr>\n",
       "    <tr>\n",
       "      <th>2</th>\n",
       "      <td>Green Park</td>\n",
       "      <td>162.250000</td>\n",
       "    </tr>\n",
       "    <tr>\n",
       "      <th>3</th>\n",
       "      <td>Punjab Cricket Association IS Bindra Stadium, Mohali</td>\n",
       "      <td>161.136364</td>\n",
       "    </tr>\n",
       "    <tr>\n",
       "      <th>4</th>\n",
       "      <td>Himachal Pradesh Cricket Association Stadium</td>\n",
       "      <td>160.944444</td>\n",
       "    </tr>\n",
       "    <tr>\n",
       "      <th>5</th>\n",
       "      <td>Maharashtra Cricket Association Stadium</td>\n",
       "      <td>158.733333</td>\n",
       "    </tr>\n",
       "    <tr>\n",
       "      <th>6</th>\n",
       "      <td>Wankhede Stadium</td>\n",
       "      <td>157.815789</td>\n",
       "    </tr>\n",
       "    <tr>\n",
       "      <th>7</th>\n",
       "      <td>Holkar Cricket Stadium</td>\n",
       "      <td>157.600000</td>\n",
       "    </tr>\n",
       "    <tr>\n",
       "      <th>8</th>\n",
       "      <td>Punjab Cricket Association Stadium, Mohali</td>\n",
       "      <td>156.957143</td>\n",
       "    </tr>\n",
       "    <tr>\n",
       "      <th>9</th>\n",
       "      <td>MA Chidambaram Stadium, Chepauk</td>\n",
       "      <td>155.887755</td>\n",
       "    </tr>\n",
       "    <tr>\n",
       "      <th>10</th>\n",
       "      <td>Feroz Shah Kotla</td>\n",
       "      <td>154.798319</td>\n",
       "    </tr>\n",
       "    <tr>\n",
       "      <th>11</th>\n",
       "      <td>M Chinnaswamy Stadium</td>\n",
       "      <td>154.601504</td>\n",
       "    </tr>\n",
       "    <tr>\n",
       "      <th>12</th>\n",
       "      <td>Sharjah Cricket Stadium</td>\n",
       "      <td>152.416667</td>\n",
       "    </tr>\n",
       "    <tr>\n",
       "      <th>13</th>\n",
       "      <td>SuperSport Park</td>\n",
       "      <td>152.208333</td>\n",
       "    </tr>\n",
       "    <tr>\n",
       "      <th>14</th>\n",
       "      <td>Saurashtra Cricket Association Stadium</td>\n",
       "      <td>151.500000</td>\n",
       "    </tr>\n",
       "  </tbody>\n",
       "</table>\n",
       "</div>"
      ],
      "text/plain": [
       "                                                   venue    Avg_Runs\n",
       "0   Brabourne Stadium                                     174.636364\n",
       "1   Barabati Stadium                                      162.714286\n",
       "2   Green Park                                            162.250000\n",
       "3   Punjab Cricket Association IS Bindra Stadium, Mohali  161.136364\n",
       "4   Himachal Pradesh Cricket Association Stadium          160.944444\n",
       "5   Maharashtra Cricket Association Stadium               158.733333\n",
       "6   Wankhede Stadium                                      157.815789\n",
       "7   Holkar Cricket Stadium                                157.600000\n",
       "8   Punjab Cricket Association Stadium, Mohali            156.957143\n",
       "9   MA Chidambaram Stadium, Chepauk                       155.887755\n",
       "10  Feroz Shah Kotla                                      154.798319\n",
       "11  M Chinnaswamy Stadium                                 154.601504\n",
       "12  Sharjah Cricket Stadium                               152.416667\n",
       "13  SuperSport Park                                       152.208333\n",
       "14  Saurashtra Cricket Association Stadium                151.500000"
      ]
     },
     "execution_count": 30,
     "metadata": {},
     "output_type": "execute_result"
    }
   ],
   "source": [
    "pd.DataFrame(ven_df.groupby('venue')['total_runs'].mean().sort_values(ascending = False)).rename(columns = {'total_runs':'Avg_Runs'}).reset_index().head(15)"
   ]
  },
  {
   "cell_type": "code",
   "execution_count": 31,
   "metadata": {},
   "outputs": [],
   "source": [
    "def ByVenue(df, current_venue):\n",
    "    \n",
    "    df = df[df.venue == current_venue]\n",
    "    df.reset_index(inplace = True, drop = True)\n",
    "    \n",
    "    df['isDot'] = df['batsman_runs'].apply(lambda x: 1 if x == 0 else 0)\n",
    "    df['isOne'] = df['batsman_runs'].apply(lambda x: 1 if x == 1 else 0)\n",
    "    df['isTwo'] = df['batsman_runs'].apply(lambda x: 1 if x == 2 else 0)\n",
    "    df['isThree'] = df['batsman_runs'].apply(lambda x: 1 if x == 3 else 0)\n",
    "    df['isFour'] = df['batsman_runs'].apply(lambda x: 1 if x == 4 else 0)\n",
    "    df['isSix'] = df['batsman_runs'].apply(lambda x: 1 if x == 6 else 0)\n",
    "    \n",
    "    runs = pd.DataFrame(df.groupby(['batsman', 'match_id'])['batsman_runs'].sum().reset_index()).groupby(['batsman'])['batsman_runs'].sum().reset_index().rename(columns={'batsman_runs':'runs'})\n",
    "    innings = pd.DataFrame(df.groupby(['batsman'])['match_id'].apply(lambda x: len(list(np.unique(x)))).reset_index()).rename(columns = {'match_id':'innings'})\n",
    "    balls = pd.DataFrame(df.groupby(['batsman'])['match_id'].count()).reset_index().rename(columns = {'match_id':'balls'})\n",
    "    dismissals = pd.DataFrame(df.groupby(['batsman'])['player_dismissed'].count()).reset_index().rename(columns = {'player_dismissed':'dismissals'})\n",
    "    dots = pd.DataFrame(df.groupby(['batsman'])['isDot'].sum()).reset_index().rename(columns = {'isDot':'dots'})\n",
    "    ones = pd.DataFrame(df.groupby(['batsman'])['isOne'].sum()).reset_index().rename(columns = {'isOne':'ones'})\n",
    "    twos = pd.DataFrame(df.groupby(['batsman'])['isTwo'].sum()).reset_index().rename(columns = {'isTwo':'twos'})\n",
    "    threes = pd.DataFrame(df.groupby(['batsman'])['isThree'].sum()).reset_index().rename(columns = {'isThree':'threes'})\n",
    "    fours = pd.DataFrame(df.groupby(['batsman'])['isFour'].sum()).reset_index().rename(columns = {'isFour':'fours'})\n",
    "    sixes = pd.DataFrame(df.groupby(['batsman'])['isSix'].sum()).reset_index().rename(columns = {'isSix':'sixes'})\n",
    "    \n",
    "    df = pd.merge(innings, runs, on = 'batsman').merge(balls, on = 'batsman').merge(dismissals, on = 'batsman').merge(dots, on = 'batsman').merge(ones, on = 'batsman').merge(twos, on = 'batsman').merge(threes, on = 'batsman').merge(fours, on = 'batsman').merge(sixes, on = 'batsman')\n",
    "    \n",
    "    #StrikeRate\n",
    "    df['SR'] = df.apply(lambda x: 100*(x['runs']/x['balls']), axis = 1)\n",
    "\n",
    "    #runs per innings\n",
    "    df['RPI'] = df.apply(lambda x: x['runs']/x['innings'], axis = 1)\n",
    "\n",
    "    #balls per dismissals\n",
    "    df['BPD'] = df.apply(lambda x: balls_per_dismissal(x['balls'], x['dismissals']), axis = 1)\n",
    "\n",
    "    #balls per boundary\n",
    "    df['BPB'] = df.apply(lambda x: balls_per_boundary(x['balls'], (x['fours'] + x['sixes'])), axis = 1)\n",
    "    \n",
    "    return df"
   ]
  },
  {
   "cell_type": "code",
   "execution_count": 32,
   "metadata": {},
   "outputs": [],
   "source": [
    "matches.rename(columns = {'id':'match_id'}, inplace = True)\n"
   ]
  },
  {
   "cell_type": "code",
   "execution_count": 33,
   "metadata": {},
   "outputs": [],
   "source": [
    "combined_data = deliveries.merge(matches[['match_id', 'venue']], on = 'match_id', how = 'left')\n"
   ]
  },
  {
   "cell_type": "code",
   "execution_count": 34,
   "metadata": {},
   "outputs": [
    {
     "data": {
      "text/plain": [
       "array(['Rajiv Gandhi International Stadium, Uppal',\n",
       "       'Maharashtra Cricket Association Stadium',\n",
       "       'Saurashtra Cricket Association Stadium', 'Holkar Cricket Stadium',\n",
       "       'M Chinnaswamy Stadium', 'Wankhede Stadium', 'Eden Gardens',\n",
       "       'Feroz Shah Kotla',\n",
       "       'Punjab Cricket Association IS Bindra Stadium, Mohali',\n",
       "       'Green Park', 'Punjab Cricket Association Stadium, Mohali',\n",
       "       'Sawai Mansingh Stadium', 'MA Chidambaram Stadium, Chepauk',\n",
       "       'Dr DY Patil Sports Academy', 'Newlands', \"St George's Park\",\n",
       "       'Kingsmead', 'SuperSport Park', 'Buffalo Park',\n",
       "       'New Wanderers Stadium', 'De Beers Diamond Oval',\n",
       "       'OUTsurance Oval', 'Brabourne Stadium',\n",
       "       'Sardar Patel Stadium, Motera', 'Barabati Stadium',\n",
       "       'Vidarbha Cricket Association Stadium, Jamtha',\n",
       "       'Himachal Pradesh Cricket Association Stadium', 'Nehru Stadium',\n",
       "       'Dr. Y.S. Rajasekhara Reddy ACA-VDCA Cricket Stadium',\n",
       "       'Subrata Roy Sahara Stadium',\n",
       "       'Shaheed Veer Narayan Singh International Stadium',\n",
       "       'JSCA International Stadium Complex', 'Sheikh Zayed Stadium',\n",
       "       'Sharjah Cricket Stadium', 'Dubai International Cricket Stadium',\n",
       "       nan], dtype=object)"
      ]
     },
     "execution_count": 34,
     "metadata": {},
     "output_type": "execute_result"
    }
   ],
   "source": [
    "combined_data.venue.unique()"
   ]
  },
  {
   "cell_type": "code",
   "execution_count": 35,
   "metadata": {},
   "outputs": [],
   "source": [
    "df = ByVenue(combined_data, 'MA Chidambaram Stadium, Chepauk')"
   ]
  },
  {
   "cell_type": "code",
   "execution_count": 36,
   "metadata": {},
   "outputs": [
    {
     "data": {
      "text/html": [
       "<div>\n",
       "<style scoped>\n",
       "    .dataframe tbody tr th:only-of-type {\n",
       "        vertical-align: middle;\n",
       "    }\n",
       "\n",
       "    .dataframe tbody tr th {\n",
       "        vertical-align: top;\n",
       "    }\n",
       "\n",
       "    .dataframe thead th {\n",
       "        text-align: right;\n",
       "    }\n",
       "</style>\n",
       "<table border=\"1\" class=\"dataframe\">\n",
       "  <thead>\n",
       "    <tr style=\"text-align: right;\">\n",
       "      <th></th>\n",
       "      <th>batsman</th>\n",
       "      <th>innings</th>\n",
       "      <th>runs</th>\n",
       "      <th>balls</th>\n",
       "      <th>dismissals</th>\n",
       "      <th>dots</th>\n",
       "      <th>ones</th>\n",
       "      <th>twos</th>\n",
       "      <th>threes</th>\n",
       "      <th>fours</th>\n",
       "      <th>sixes</th>\n",
       "      <th>SR</th>\n",
       "      <th>RPI</th>\n",
       "      <th>BPD</th>\n",
       "      <th>BPB</th>\n",
       "    </tr>\n",
       "  </thead>\n",
       "  <tbody>\n",
       "    <tr>\n",
       "      <th>0</th>\n",
       "      <td>A Ashish Reddy</td>\n",
       "      <td>2</td>\n",
       "      <td>39</td>\n",
       "      <td>19</td>\n",
       "      <td>1</td>\n",
       "      <td>5</td>\n",
       "      <td>6</td>\n",
       "      <td>2</td>\n",
       "      <td>1</td>\n",
       "      <td>2</td>\n",
       "      <td>3</td>\n",
       "      <td>205.263158</td>\n",
       "      <td>19.5</td>\n",
       "      <td>19.00</td>\n",
       "      <td>3.8</td>\n",
       "    </tr>\n",
       "    <tr>\n",
       "      <th>1</th>\n",
       "      <td>A Kumble</td>\n",
       "      <td>1</td>\n",
       "      <td>2</td>\n",
       "      <td>1</td>\n",
       "      <td>0</td>\n",
       "      <td>0</td>\n",
       "      <td>0</td>\n",
       "      <td>1</td>\n",
       "      <td>0</td>\n",
       "      <td>0</td>\n",
       "      <td>0</td>\n",
       "      <td>200.000000</td>\n",
       "      <td>2.0</td>\n",
       "      <td>1.00</td>\n",
       "      <td>1.0</td>\n",
       "    </tr>\n",
       "    <tr>\n",
       "      <th>2</th>\n",
       "      <td>A Mishra</td>\n",
       "      <td>3</td>\n",
       "      <td>21</td>\n",
       "      <td>31</td>\n",
       "      <td>4</td>\n",
       "      <td>19</td>\n",
       "      <td>7</td>\n",
       "      <td>3</td>\n",
       "      <td>0</td>\n",
       "      <td>2</td>\n",
       "      <td>0</td>\n",
       "      <td>67.741935</td>\n",
       "      <td>7.0</td>\n",
       "      <td>7.75</td>\n",
       "      <td>15.5</td>\n",
       "    </tr>\n",
       "    <tr>\n",
       "      <th>3</th>\n",
       "      <td>A Mithun</td>\n",
       "      <td>1</td>\n",
       "      <td>11</td>\n",
       "      <td>8</td>\n",
       "      <td>1</td>\n",
       "      <td>3</td>\n",
       "      <td>3</td>\n",
       "      <td>0</td>\n",
       "      <td>0</td>\n",
       "      <td>2</td>\n",
       "      <td>0</td>\n",
       "      <td>137.500000</td>\n",
       "      <td>11.0</td>\n",
       "      <td>8.00</td>\n",
       "      <td>4.0</td>\n",
       "    </tr>\n",
       "    <tr>\n",
       "      <th>4</th>\n",
       "      <td>A Mukund</td>\n",
       "      <td>1</td>\n",
       "      <td>0</td>\n",
       "      <td>1</td>\n",
       "      <td>1</td>\n",
       "      <td>1</td>\n",
       "      <td>0</td>\n",
       "      <td>0</td>\n",
       "      <td>0</td>\n",
       "      <td>0</td>\n",
       "      <td>0</td>\n",
       "      <td>0.000000</td>\n",
       "      <td>0.0</td>\n",
       "      <td>1.00</td>\n",
       "      <td>1.0</td>\n",
       "    </tr>\n",
       "  </tbody>\n",
       "</table>\n",
       "</div>"
      ],
      "text/plain": [
       "          batsman  innings  runs  balls  dismissals  dots  ones  twos  threes  fours  sixes          SR   RPI    BPD   BPB\n",
       "0  A Ashish Reddy  2        39    19     1           5     6     2     1       2      3      205.263158  19.5  19.00  3.8 \n",
       "1  A Kumble        1        2     1      0           0     0     1     0       0      0      200.000000  2.0   1.00   1.0 \n",
       "2  A Mishra        3        21    31     4           19    7     3     0       2      0      67.741935   7.0   7.75   15.5\n",
       "3  A Mithun        1        11    8      1           3     3     0     0       2      0      137.500000  11.0  8.00   4.0 \n",
       "4  A Mukund        1        0     1      1           1     0     0     0       0      0      0.000000    0.0   1.00   1.0 "
      ]
     },
     "execution_count": 36,
     "metadata": {},
     "output_type": "execute_result"
    }
   ],
   "source": [
    "df.head()"
   ]
  },
  {
   "attachments": {},
   "cell_type": "markdown",
   "metadata": {},
   "source": [
    "#### Problem Statement: How good is player X against CSK in Chepauk when they’re playing 3 spinners?\n",
    "#### Filters in our problem statement: \n",
    "Stadium = 'Chepauk' <br>Phase = 'Middle Overs' <br>Oppostion Team = 'CSK'"
   ]
  },
  {
   "cell_type": "code",
   "execution_count": 37,
   "metadata": {},
   "outputs": [],
   "source": [
    "def ByCustom(df, current_venue, current_phase, current_opposition):\n",
    "    \n",
    "    df = df[df.venue == current_venue]\n",
    "    df = df[df.phase == current_phase]\n",
    "    df = df[df.bowling_team == current_opposition]\n",
    "    \n",
    "    df.reset_index(inplace = True, drop = True)\n",
    "    \n",
    "    df['isDot'] = df['batsman_runs'].apply(lambda x: 1 if x == 0 else 0)\n",
    "    df['isOne'] = df['batsman_runs'].apply(lambda x: 1 if x == 1 else 0)\n",
    "    df['isTwo'] = df['batsman_runs'].apply(lambda x: 1 if x == 2 else 0)\n",
    "    df['isThree'] = df['batsman_runs'].apply(lambda x: 1 if x == 3 else 0)\n",
    "    df['isFour'] = df['batsman_runs'].apply(lambda x: 1 if x == 4 else 0)\n",
    "    df['isSix'] = df['batsman_runs'].apply(lambda x: 1 if x == 6 else 0)\n",
    "    \n",
    "    runs = pd.DataFrame(df.groupby(['batsman', 'match_id'])['batsman_runs'].sum().reset_index()).groupby(['batsman'])['batsman_runs'].sum().reset_index().rename(columns={'batsman_runs':'runs'})\n",
    "    innings = pd.DataFrame(df.groupby(['batsman'])['match_id'].apply(lambda x: len(list(np.unique(x)))).reset_index()).rename(columns = {'match_id':'innings'})\n",
    "    balls = pd.DataFrame(df.groupby(['batsman'])['match_id'].count()).reset_index().rename(columns = {'match_id':'balls'})\n",
    "    dismissals = pd.DataFrame(df.groupby(['batsman'])['player_dismissed'].count()).reset_index().rename(columns = {'player_dismissed':'dismissals'})\n",
    "    \n",
    "    dots = pd.DataFrame(df.groupby(['batsman'])['isDot'].sum()).reset_index().rename(columns = {'isDot':'dots'})\n",
    "    ones = pd.DataFrame(df.groupby(['batsman'])['isOne'].sum()).reset_index().rename(columns = {'isOne':'ones'})\n",
    "    twos = pd.DataFrame(df.groupby(['batsman'])['isTwo'].sum()).reset_index().rename(columns = {'isTwo':'twos'})\n",
    "    threes = pd.DataFrame(df.groupby(['batsman'])['isThree'].sum()).reset_index().rename(columns = {'isThree':'threes'})\n",
    "    fours = pd.DataFrame(df.groupby(['batsman'])['isFour'].sum()).reset_index().rename(columns = {'isFour':'fours'})\n",
    "    sixes = pd.DataFrame(df.groupby(['batsman'])['isSix'].sum()).reset_index().rename(columns = {'isSix':'sixes'})\n",
    "    \n",
    "    df = pd.merge(innings, runs, on = 'batsman').merge(balls, on = 'batsman').merge(dismissals, on = 'batsman').merge(dots, on = 'batsman').merge(ones, on = 'batsman').merge(twos, on = 'batsman').merge(threes, on = 'batsman').merge(fours, on = 'batsman').merge(sixes, on = 'batsman')\n",
    "    \n",
    "    #StrikeRate\n",
    "    df['SR'] = df.apply(lambda x: 100*(x['runs']/x['balls']), axis = 1)\n",
    "\n",
    "    #runs per innings\n",
    "    df['RPI'] = df.apply(lambda x: x['runs']/x['innings'], axis = 1)\n",
    "\n",
    "    #balls per dismissals\n",
    "    df['BPD'] = df.apply(lambda x: balls_per_dismissal(x['balls'], x['dismissals']), axis = 1)\n",
    "\n",
    "    #balls per boundary\n",
    "    df['BPB'] = df.apply(lambda x: balls_per_boundary(x['balls'], (x['fours'] + x['sixes'])), axis = 1)\n",
    "    \n",
    "    return df"
   ]
  },
  {
   "cell_type": "code",
   "execution_count": 38,
   "metadata": {},
   "outputs": [],
   "source": [
    "df = ByCustom(combined_data, 'MA Chidambaram Stadium, Chepauk', 'Middle', 'Chennai Super Kings')\n"
   ]
  },
  {
   "cell_type": "code",
   "execution_count": 39,
   "metadata": {},
   "outputs": [],
   "source": [
    "df['dot_percentage'] = df.apply(lambda x: x['dots']/x['balls'], axis = 1)"
   ]
  },
  {
   "cell_type": "code",
   "execution_count": 40,
   "metadata": {},
   "outputs": [],
   "source": [
    "wt_sr, wt_rpi, wt_bpd, wt_dot_percentage = 0.13, 0.27, 0.16, 0.45\n",
    "df = df[(df.innings > 2)  & (df.runs > 50)]\n"
   ]
  },
  {
   "attachments": {},
   "cell_type": "markdown",
   "metadata": {},
   "source": [
    "### Calculation - Normalizing all values to same dimensions"
   ]
  },
  {
   "cell_type": "code",
   "execution_count": 41,
   "metadata": {},
   "outputs": [],
   "source": [
    "#step1: square of all values\n",
    "df['calc_SR'] = df['SR'].apply(lambda x: x*x) \n",
    "df['calc_RPI'] = df['RPI'].apply(lambda x: x*x) \n",
    "df['calc_BPD'] = df['BPD'].apply(lambda x: x*x) \n",
    "df['calc_dot_percentage'] = df['dot_percentage'].apply(lambda x: x*x)\n",
    "\n",
    "sq_sr, sq_rpi, sq_bpd, sq_dot_percentage = np.sqrt(df[['calc_SR','calc_RPI', 'calc_BPD', 'calc_dot_percentage']].sum(axis = 0))\n",
    "\n",
    "df['calc_SR'] = df['calc_SR'].apply(lambda x: x/sq_sr) \n",
    "df['calc_RPI'] = df['calc_RPI'].apply(lambda x: x/sq_rpi) \n",
    "df['calc_BPD'] = df['calc_BPD'].apply(lambda x: x/sq_bpd) \n",
    "df['calc_dot_percentage'] = df['calc_dot_percentage'].apply(lambda x: x/sq_dot_percentage)\n",
    "\n",
    "df['calc_SR'] = df['calc_SR'].apply(lambda x: x*wt_sr) \n",
    "df['calc_RPI'] = df['calc_RPI'].apply(lambda x: x*wt_rpi) \n",
    "df['calc_BPD'] = df['calc_BPD'].apply(lambda x: x*wt_bpd) \n",
    "df['calc_dot_percentage'] = df['calc_dot_percentage'].apply(lambda x: x*wt_dot_percentage)\n",
    "\n",
    "best_sr, worst_sr = max(df['calc_SR']), min(df['calc_SR'])\n",
    "best_rpi, worst_rpi = max(df['calc_RPI']), min(df['calc_RPI'])\n",
    "best_bpd, worst_bpd = max(df['calc_BPD']), min(df['calc_BPD'])\n",
    "best_dot_percentage, worst_dot_percentage = min(df['calc_dot_percentage']), max(df['calc_dot_percentage'])"
   ]
  },
  {
   "attachments": {},
   "cell_type": "markdown",
   "metadata": {},
   "source": [
    "### Calculation - Comparision against the best & worst values"
   ]
  },
  {
   "cell_type": "code",
   "execution_count": 42,
   "metadata": {},
   "outputs": [],
   "source": [
    "df['dev_best_SR'] = df['calc_SR'].apply(lambda x: (x-best_sr)*(x-best_sr)) \n",
    "df['dev_best_RPI'] = df['calc_RPI'].apply(lambda x: (x-best_rpi)*(x-best_rpi)) \n",
    "df['dev_best_BPD'] = df['calc_BPD'].apply(lambda x: (x-best_bpd)*(x-best_bpd)) \n",
    "df['dev_best_dot_percentage'] = df['calc_dot_percentage'].apply(lambda x: (x-best_dot_percentage)*(x-best_dot_percentage))\n",
    "\n",
    "df['dev_best_sqrt'] = df.apply(lambda x: x['dev_best_SR'] + x['dev_best_RPI'] + x['dev_best_BPD'] + x['dev_best_dot_percentage'], axis = 1) \n",
    "\n",
    "df['dev_worst_SR'] = df['calc_SR'].apply(lambda x: (x-worst_sr)*(x-worst_sr)) \n",
    "df['dev_worst_RPI'] = df['calc_RPI'].apply(lambda x: (x-worst_rpi)*(x-worst_rpi)) \n",
    "df['dev_worst_BPD'] = df['calc_BPD'].apply(lambda x: (x-worst_bpd)*(x-worst_bpd)) \n",
    "df['dev_worst_dot_percentage'] = df['calc_dot_percentage'].apply(lambda x: (x-worst_dot_percentage)*(x-worst_dot_percentage))\n",
    "\n",
    "df['dev_worst_sqrt'] = df.apply(lambda x: x['dev_worst_SR'] + x['dev_worst_RPI'] + x['dev_worst_BPD'] + x['dev_worst_dot_percentage'], axis = 1) "
   ]
  },
  {
   "attachments": {},
   "cell_type": "markdown",
   "metadata": {},
   "source": [
    "### Final Step - Overall score for each player ( values from 0 - 1)"
   ]
  },
  {
   "cell_type": "code",
   "execution_count": 43,
   "metadata": {},
   "outputs": [],
   "source": [
    "df['score'] = df.apply(lambda x: x['dev_worst_sqrt']/(x['dev_worst_sqrt'] + x['dev_best_sqrt']), axis = 1)\n"
   ]
  },
  {
   "attachments": {},
   "cell_type": "markdown",
   "metadata": {},
   "source": [
    "### End Result: Top players for our required role"
   ]
  },
  {
   "cell_type": "code",
   "execution_count": 44,
   "metadata": {},
   "outputs": [
    {
     "data": {
      "text/html": [
       "<div>\n",
       "<style scoped>\n",
       "    .dataframe tbody tr th:only-of-type {\n",
       "        vertical-align: middle;\n",
       "    }\n",
       "\n",
       "    .dataframe tbody tr th {\n",
       "        vertical-align: top;\n",
       "    }\n",
       "\n",
       "    .dataframe thead th {\n",
       "        text-align: right;\n",
       "    }\n",
       "</style>\n",
       "<table border=\"1\" class=\"dataframe\">\n",
       "  <thead>\n",
       "    <tr style=\"text-align: right;\">\n",
       "      <th></th>\n",
       "      <th>batsman</th>\n",
       "      <th>innings</th>\n",
       "      <th>runs</th>\n",
       "      <th>balls</th>\n",
       "      <th>dismissals</th>\n",
       "      <th>dot_percentage</th>\n",
       "      <th>score</th>\n",
       "    </tr>\n",
       "  </thead>\n",
       "  <tbody>\n",
       "    <tr>\n",
       "      <th>0</th>\n",
       "      <td>SE Marsh</td>\n",
       "      <td>3</td>\n",
       "      <td>104</td>\n",
       "      <td>54</td>\n",
       "      <td>1</td>\n",
       "      <td>0.185185</td>\n",
       "      <td>0.927715</td>\n",
       "    </tr>\n",
       "    <tr>\n",
       "      <th>1</th>\n",
       "      <td>SR Watson</td>\n",
       "      <td>4</td>\n",
       "      <td>121</td>\n",
       "      <td>70</td>\n",
       "      <td>2</td>\n",
       "      <td>0.228571</td>\n",
       "      <td>0.645041</td>\n",
       "    </tr>\n",
       "    <tr>\n",
       "      <th>2</th>\n",
       "      <td>AB de Villiers</td>\n",
       "      <td>4</td>\n",
       "      <td>88</td>\n",
       "      <td>61</td>\n",
       "      <td>1</td>\n",
       "      <td>0.278689</td>\n",
       "      <td>0.468562</td>\n",
       "    </tr>\n",
       "    <tr>\n",
       "      <th>3</th>\n",
       "      <td>G Gambhir</td>\n",
       "      <td>3</td>\n",
       "      <td>86</td>\n",
       "      <td>73</td>\n",
       "      <td>1</td>\n",
       "      <td>0.287671</td>\n",
       "      <td>0.421894</td>\n",
       "    </tr>\n",
       "    <tr>\n",
       "      <th>4</th>\n",
       "      <td>NV Ojha</td>\n",
       "      <td>3</td>\n",
       "      <td>64</td>\n",
       "      <td>41</td>\n",
       "      <td>2</td>\n",
       "      <td>0.292683</td>\n",
       "      <td>0.324883</td>\n",
       "    </tr>\n",
       "    <tr>\n",
       "      <th>5</th>\n",
       "      <td>Y Venugopal Rao</td>\n",
       "      <td>3</td>\n",
       "      <td>67</td>\n",
       "      <td>51</td>\n",
       "      <td>1</td>\n",
       "      <td>0.313725</td>\n",
       "      <td>0.220907</td>\n",
       "    </tr>\n",
       "    <tr>\n",
       "      <th>6</th>\n",
       "      <td>MS Bisla</td>\n",
       "      <td>3</td>\n",
       "      <td>89</td>\n",
       "      <td>66</td>\n",
       "      <td>2</td>\n",
       "      <td>0.303030</td>\n",
       "      <td>0.199977</td>\n",
       "    </tr>\n",
       "    <tr>\n",
       "      <th>7</th>\n",
       "      <td>V Kohli</td>\n",
       "      <td>7</td>\n",
       "      <td>175</td>\n",
       "      <td>150</td>\n",
       "      <td>4</td>\n",
       "      <td>0.333333</td>\n",
       "      <td>0.069443</td>\n",
       "    </tr>\n",
       "    <tr>\n",
       "      <th>8</th>\n",
       "      <td>JH Kallis</td>\n",
       "      <td>5</td>\n",
       "      <td>124</td>\n",
       "      <td>124</td>\n",
       "      <td>3</td>\n",
       "      <td>0.314516</td>\n",
       "      <td>0.041409</td>\n",
       "    </tr>\n",
       "    <tr>\n",
       "      <th>9</th>\n",
       "      <td>Yuvraj Singh</td>\n",
       "      <td>4</td>\n",
       "      <td>66</td>\n",
       "      <td>58</td>\n",
       "      <td>2</td>\n",
       "      <td>0.379310</td>\n",
       "      <td>0.027028</td>\n",
       "    </tr>\n",
       "    <tr>\n",
       "      <th>10</th>\n",
       "      <td>R Dravid</td>\n",
       "      <td>4</td>\n",
       "      <td>79</td>\n",
       "      <td>74</td>\n",
       "      <td>2</td>\n",
       "      <td>0.364865</td>\n",
       "      <td>0.026114</td>\n",
       "    </tr>\n",
       "    <tr>\n",
       "      <th>11</th>\n",
       "      <td>DA Warner</td>\n",
       "      <td>3</td>\n",
       "      <td>72</td>\n",
       "      <td>73</td>\n",
       "      <td>2</td>\n",
       "      <td>0.383562</td>\n",
       "      <td>0.024694</td>\n",
       "    </tr>\n",
       "    <tr>\n",
       "      <th>12</th>\n",
       "      <td>SS Tiwary</td>\n",
       "      <td>3</td>\n",
       "      <td>51</td>\n",
       "      <td>57</td>\n",
       "      <td>2</td>\n",
       "      <td>0.403509</td>\n",
       "      <td>0.001759</td>\n",
       "    </tr>\n",
       "  </tbody>\n",
       "</table>\n",
       "</div>"
      ],
      "text/plain": [
       "            batsman  innings  runs  balls  dismissals  dot_percentage     score\n",
       "0   SE Marsh         3        104   54     1           0.185185        0.927715\n",
       "1   SR Watson        4        121   70     2           0.228571        0.645041\n",
       "2   AB de Villiers   4        88    61     1           0.278689        0.468562\n",
       "3   G Gambhir        3        86    73     1           0.287671        0.421894\n",
       "4   NV Ojha          3        64    41     2           0.292683        0.324883\n",
       "5   Y Venugopal Rao  3        67    51     1           0.313725        0.220907\n",
       "6   MS Bisla         3        89    66     2           0.303030        0.199977\n",
       "7   V Kohli          7        175   150    4           0.333333        0.069443\n",
       "8   JH Kallis        5        124   124    3           0.314516        0.041409\n",
       "9   Yuvraj Singh     4        66    58     2           0.379310        0.027028\n",
       "10  R Dravid         4        79    74     2           0.364865        0.026114\n",
       "11  DA Warner        3        72    73     2           0.383562        0.024694\n",
       "12  SS Tiwary        3        51    57     2           0.403509        0.001759"
      ]
     },
     "execution_count": 44,
     "metadata": {},
     "output_type": "execute_result"
    }
   ],
   "source": [
    "df[[ 'batsman','innings', 'runs', 'balls', 'dismissals', 'dot_percentage', 'score']].sort_values(['score'], ascending = False).reset_index(drop = True).head(25)\n"
   ]
  }
 ],
 "metadata": {
  "kernelspec": {
   "display_name": "Python 3",
   "language": "python",
   "name": "python3"
  },
  "language_info": {
   "codemirror_mode": {
    "name": "ipython",
    "version": 3
   },
   "file_extension": ".py",
   "mimetype": "text/x-python",
   "name": "python",
   "nbconvert_exporter": "python",
   "pygments_lexer": "ipython3",
   "version": "3.9.13"
  },
  "orig_nbformat": 4
 },
 "nbformat": 4,
 "nbformat_minor": 2
}
